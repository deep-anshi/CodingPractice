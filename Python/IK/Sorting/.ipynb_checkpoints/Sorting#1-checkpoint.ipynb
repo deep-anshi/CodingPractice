{
 "cells": [
  {
   "cell_type": "code",
   "execution_count": null,
   "id": "d90c01e1",
   "metadata": {},
   "outputs": [],
   "source": [
    "## selection\n",
    "\n",
    "def SelSort(nums):\n",
    "    n = len(nums)\n",
    "    \n",
    "    for i in range(0,n):\n",
    "        minvalue = nums[i]\n",
    "        minvalueindex = i \n",
    "        \n",
    "        for j in range(i+1, n):\n",
    "            if nums[j] < minvalue:\n",
    "                minvalue = nums[j]\n",
    "                minvalueindex = j\n",
    "                \n",
    "        nums[i], nums[minvalueindex] = nums[minvalueindex], nums[i]\n",
    "    return nums\n",
    "A = [4,7,8,89,1,5,87,5,71]\n",
    "SelSort(A) "
   ]
  },
  {
   "cell_type": "code",
   "execution_count": 9,
   "id": "7f68b8b6",
   "metadata": {},
   "outputs": [
    {
     "data": {
      "text/plain": [
       "[1, 4, 5, 5, 7, 8, 71, 87, 89]"
      ]
     },
     "execution_count": 9,
     "metadata": {},
     "output_type": "execute_result"
    }
   ],
   "source": [
    "# buuble sort\n",
    "\n",
    "def bubbleSort(nums):\n",
    "    n = len(nums)\n",
    "    \n",
    "    for i in range(0,n):\n",
    "        \n",
    "        for j in range(n-1,i,-1):\n",
    "            if nums[j-1] > nums[j]:\n",
    "                nums[j-1],nums[j] = nums[j], nums[j-1]\n",
    "                \n",
    "    return nums             \n",
    "                \n",
    "A = [4,7,8,89,1,5,87,5,71]\n",
    "bubbleSort(A)               "
   ]
  },
  {
   "cell_type": "code",
   "execution_count": 14,
   "id": "06d3928b",
   "metadata": {},
   "outputs": [
    {
     "data": {
      "text/plain": [
       "[1, 4, 5, 5, 7, 8, 71, 87, 89]"
      ]
     },
     "execution_count": 14,
     "metadata": {},
     "output_type": "execute_result"
    }
   ],
   "source": [
    "# Insertion sort\n",
    "\n",
    "def insertionSort(nums):\n",
    "    n = len(nums)\n",
    "    \n",
    "    for i in range(0,n):\n",
    "        curr = nums[i]\n",
    "        j = i-1\n",
    "        \n",
    "        while j >= 0 and nums[j] > curr :\n",
    "            nums[j+1], nums[j] = nums[j], nums[j+1]\n",
    "            j-=1\n",
    "            \n",
    "        nums[j+1] = curr\n",
    "        \n",
    "    return(nums)\n",
    "\n",
    "A = [4,7,8,89,1,5,87,5,71]\n",
    "insertionSort(A)        "
   ]
  },
  {
   "cell_type": "code",
   "execution_count": 19,
   "id": "0b257fc9",
   "metadata": {},
   "outputs": [],
   "source": [
    "# merge sort \n",
    "def helper(nums,start,end):\n",
    "    # base case\n",
    "    if start>=end:\n",
    "        return\n",
    "    \n",
    "    # recursion case\n",
    "    ## divide\n",
    "    mid = (start +end)/2\n",
    "    helper(nums,start,mid)\n",
    "    helper(nums,mid+1, end)\n",
    "    \n",
    "    ## merge\n",
    "    \n",
    "    # define pointers\n",
    "    i = start\n",
    "    j = mid+1\n",
    "    aux =[]\n",
    "    \n",
    "    while i <=mid and j <=end:\n",
    "        if nums[i] <= nums[j]:\n",
    "            aux.append(nums[i])\n",
    "            i+=1\n",
    "            \n",
    "        else:\n",
    "            aux.append(nums[j])\n",
    "            j+=1\n",
    "            \n",
    "    while i <=mid:\n",
    "        aux.append(nums[i])\n",
    "        i+=1\n",
    "        \n",
    "    while j <=end:\n",
    "        aux.append(nums[j])\n",
    "        j+=1\n",
    "        \n",
    "    # copy elements from aux to arr\n",
    "    nums[start:end] = aux\n",
    "    \n",
    "    #return \n",
    "        "
   ]
  },
  {
   "cell_type": "code",
   "execution_count": 21,
   "id": "3a50b3ca",
   "metadata": {},
   "outputs": [],
   "source": [
    "def mergeSort(nums):\n",
    "    helper(nums,0,len(nums)-1)\n",
    "    return\n",
    "\n",
    "#A = [4,7,8,89,1,5,87,5,71]\n",
    "#mergeSort(A)  "
   ]
  },
  {
   "cell_type": "code",
   "execution_count": 28,
   "id": "33cc0fe2",
   "metadata": {},
   "outputs": [
    {
     "data": {
      "text/plain": [
       "[1, 4, 5, 5, 7, 8, 71, 87, 89]"
      ]
     },
     "execution_count": 28,
     "metadata": {},
     "output_type": "execute_result"
    }
   ],
   "source": [
    "# Quick sort \n",
    "\n",
    "def helper(A, start, end):\n",
    "    n = len(A)\n",
    "    #base case\n",
    "    if start >= end: \n",
    "        return\n",
    "    \n",
    "    #recursion case\n",
    "    \n",
    "    import random\n",
    "    pindex = random.randint(start, end)\n",
    "    \n",
    "    A[pindex], A[start] = A[start], A[pindex]\n",
    "    \n",
    "    orange = start\n",
    "    \n",
    "    for green in range(start+1, end +1):\n",
    "        if A[green] < A[start]:\n",
    "            orange+=1\n",
    "            A[orange], A[green] = A[green], A[orange]\n",
    "            \n",
    "    A[start], A[orange] = A[orange], A[start]\n",
    "    helper(A,start, orange-1)  \n",
    "    helper(A,orange+1, end) \n",
    "    \n",
    "    \n",
    "    \n",
    "def quickSort(A):\n",
    "    helper(A,0,len(A)-1)\n",
    "    return A\n",
    "\n",
    "A = [4,7,8,89,1,5,87,5,71]\n",
    "quickSort(A)  "
   ]
  },
  {
   "cell_type": "code",
   "execution_count": 53,
   "id": "8dce969b",
   "metadata": {},
   "outputs": [
    {
     "data": {
      "text/plain": [
       "[1, 4, 5, 5, 7, 8, 71, 87, 89]"
      ]
     },
     "execution_count": 53,
     "metadata": {},
     "output_type": "execute_result"
    }
   ],
   "source": [
    "#heapsort\n",
    "\n",
    "def heapSort(nums):\n",
    "    \n",
    "    #n =len(nums) \n",
    "    import heapq\n",
    "    heapq.heapify(nums)\n",
    "    aux = []\n",
    "    while len(nums) > 0:\n",
    "        aux.append(heapq.heappop(nums))\n",
    "    return aux\n",
    "\n",
    "A = [4,7,8,89,1,5,87,5,71]\n",
    "heapSort(A) "
   ]
  },
  {
   "cell_type": "code",
   "execution_count": 34,
   "id": "7ebb3fe8",
   "metadata": {},
   "outputs": [
    {
     "data": {
      "text/plain": [
       "True"
      ]
     },
     "execution_count": 34,
     "metadata": {},
     "output_type": "execute_result"
    }
   ],
   "source": [
    "# Two sums, could do brute force, optimal would be 2 pointers approach\n",
    "\n",
    "def twoSums(nums, target):\n",
    "    n = len(nums)\n",
    "    i = 0\n",
    "    j = n-1\n",
    "    while i<j:\n",
    "        if nums[i] + nums[j] == target:\n",
    "            return True\n",
    "       \n",
    "        if nums[i] > target - nums[j]:\n",
    "            j -=1\n",
    "            \n",
    "        else:\n",
    "            i+=1\n",
    "    return False \n",
    "            \n",
    "\n",
    "A = [1, 4, 5, 5, 7, 8, 71, 87, 89]\n",
    "twoSums(A,10)        "
   ]
  },
  {
   "cell_type": "code",
   "execution_count": 39,
   "id": "b62916ed",
   "metadata": {},
   "outputs": [
    {
     "data": {
      "text/plain": [
       "True"
      ]
     },
     "execution_count": 39,
     "metadata": {},
     "output_type": "execute_result"
    }
   ],
   "source": [
    "# meeting room\n",
    "\n",
    "def meetRoom(intervals):\n",
    "    \n",
    "    intervals.sort(key=lambda x:x[0])\n",
    "    n = len(intervals)\n",
    "    for i in range(n):\n",
    "        if intervals[i][0] <  intervals[i][1]:\n",
    "            return True\n",
    "        \n",
    "        return False\n",
    "    \n",
    "intervals=[[0,30],[5,10],[15,20]]\n",
    "intervals=[[7,10],[2,4]]\n",
    "meetRoom(intervals)     "
   ]
  },
  {
   "cell_type": "code",
   "execution_count": 41,
   "id": "2c3e88c5",
   "metadata": {},
   "outputs": [
    {
     "data": {
      "text/plain": [
       "['-1, -1, 2', '-1, 0, 1']"
      ]
     },
     "execution_count": 41,
     "metadata": {},
     "output_type": "execute_result"
    }
   ],
   "source": [
    "#Three sum \n",
    "\n",
    "## brute force\n",
    "\n",
    "def threeSum(nums):\n",
    "    nums.sort()\n",
    "    n = len(nums)\n",
    "    res = set()\n",
    "    for i in range(n):\n",
    "        for j in range(i+1, n):\n",
    "            for k in range(j+1, n):\n",
    "                if nums[i]+nums[j]+nums[k] == 0:\n",
    "                    res.add(f\"{nums[i]}, {nums[j]}, {nums[k]}\")\n",
    "    return list(res)  \n",
    "\n",
    "input = [-1,0,1,2,-1,-4]                \n",
    "threeSum(input) "
   ]
  },
  {
   "cell_type": "code",
   "execution_count": 43,
   "id": "6720004b",
   "metadata": {},
   "outputs": [
    {
     "data": {
      "text/plain": [
       "['-1, 0, 1 ', '-1, -1, 2 ']"
      ]
     },
     "execution_count": 43,
     "metadata": {},
     "output_type": "execute_result"
    }
   ],
   "source": [
    "## two pointers approach\n",
    "\n",
    "def threeSum(nums):\n",
    "    nums.sort()\n",
    "    n = len(nums)\n",
    "    res = set()\n",
    "    for i in range(n):\n",
    "        currElem = nums[i]\n",
    "        neededSum = - currElem\n",
    "        left, right = i+1, n-1\n",
    "        \n",
    "        while left < right:\n",
    "            if nums[left] + nums[right] == neededSum:\n",
    "                res.add(f\"{nums[i]}, {nums[left]}, {nums[right]} \")\n",
    "                left +=1\n",
    "                \n",
    "            elif nums[left] + nums[right] > neededSum:\n",
    "                right -=1\n",
    "                \n",
    "            else:\n",
    "                left +=1\n",
    "    return list(res)        \n",
    "                \n",
    "input = [-1,0,1,2,-1,-4]                \n",
    "threeSum(input)                 "
   ]
  },
  {
   "cell_type": "code",
   "execution_count": 45,
   "id": "32a7e402",
   "metadata": {},
   "outputs": [
    {
     "data": {
      "text/plain": [
       "[2, 2]"
      ]
     },
     "execution_count": 45,
     "metadata": {},
     "output_type": "execute_result"
    }
   ],
   "source": [
    "# intersection / and set\n",
    "\n",
    "def andSet(A,B):\n",
    "    i = 0\n",
    "    j = 0\n",
    "    res = []\n",
    "    while i < len(A) and j < len(B):\n",
    "        if A[i] == B[j]:\n",
    "            res.append(A[i])\n",
    "            i+=1\n",
    "            j+=1\n",
    "            \n",
    "        elif A[i] < B[j] :\n",
    "            i+=1\n",
    "        \n",
    "        else:\n",
    "            j+=1\n",
    "    return res  \n",
    "nums1=[1,2,2,1]\n",
    "nums2=[2,2]\n",
    "andSet(nums1,nums2)"
   ]
  },
  {
   "cell_type": "code",
   "execution_count": 47,
   "id": "4d965b67",
   "metadata": {},
   "outputs": [
    {
     "data": {
      "text/plain": [
       "[1, 2, 2, 1]"
      ]
     },
     "execution_count": 47,
     "metadata": {},
     "output_type": "execute_result"
    }
   ],
   "source": [
    "# union / or set\n",
    "\n",
    "def orSet(A,B):\n",
    "    i,j=0,0\n",
    "    res=[]\n",
    "    while i < len(A) and j < len(B):\n",
    "        if A[i] == B[j]:\n",
    "            res.append(A[i])\n",
    "            i+=1\n",
    "            j+=1\n",
    "            \n",
    "        elif A[i] < B[j] :\n",
    "            res.append(A[i])\n",
    "            i+=1    \n",
    "        else:\n",
    "            res.append(B[j])\n",
    "            j+=1\n",
    "        \n",
    "    while i<len(A) :\n",
    "        res.append(A[i])\n",
    "        i+=1 \n",
    "    while j<len(B) :\n",
    "        res.append(B[j])\n",
    "        j+=1         \n",
    "    return res        \n",
    "            \n",
    "nums1=[1,2,2,1]\n",
    "nums2=[2,2]\n",
    "orSet(nums1,nums2)            \n",
    "        "
   ]
  },
  {
   "cell_type": "code",
   "execution_count": null,
   "id": "92749ab0",
   "metadata": {},
   "outputs": [],
   "source": [
    "'''\n",
    "\n",
    "S and T are strings composed of lowercase letters. In S, no letter occurs more than once.\n",
    "S was sorted in some custom order previously. We want to permute the characters of T so that they match the order that S was sorted. More specifically, if x occurs before y in S, then x should occur before y in the returned string.\n",
    "Return any permutation of T (as a string) that satisfies this property.\n",
    "\n",
    "'''\n",
    "\n",
    "# if 'f' is not present in S but is there in T then put it in the end\n",
    "# S sorted = ['a','d','b','g']\n",
    "# T = ['b','c','d','g','f']\n",
    "## T = [d,b,g,c,f]\n",
    "\n",
    "'''\n",
    "\n",
    "public String customSortString(String S, String T) {\n",
    "        // Write your code here\n",
    "        String res = \"\";\n",
    "        int[] cnt = new int[26];\n",
    "        int t = 0;\n",
    "        for(int i = 0;i < 26;i++) cnt[i] = 0;\n",
    "        for(int i = 0;i  <T.length();i++){\n",
    "        \tcnt[T.charAt(i) - 'a']++;\n",
    "        }\n",
    "        for(int i = 0;i < S.length();i++){\n",
    "        \tfor(int j = 0;j < cnt[S.charAt(i) - 'a'];j++){\n",
    "        \t\tres += S.charAt(i);\n",
    "        \t}\n",
    "        \tcnt[S.charAt(i) - 'a'] = 0;\n",
    "        }\n",
    "        for(int i = 0;i < 26;i++){\n",
    "        \tfor(int j = 0;j < cnt[i];j++){\n",
    "        \t\tres += (char)('a' + i);\n",
    "        \t}\n",
    "        }\n",
    "        return res;\n",
    "    }\n",
    "\n",
    "'''\n",
    "\n",
    "def SortT(S,T):\n",
    "    # \n",
    "    # \n",
    "    n = len(T)\n",
    "    m = len(S)\n",
    "    \n",
    "    \n",
    "    for i in range(len(S)):\n",
    "        for j in range(len(T)):\n",
    "            res = []\n",
    "            if S[i] == T[j]:\n",
    "                \n",
    "    \n",
    "    \n",
    "    \n",
    "    \n",
    "    "
   ]
  },
  {
   "cell_type": "code",
   "execution_count": null,
   "id": "00e99166",
   "metadata": {},
   "outputs": [],
   "source": []
  },
  {
   "cell_type": "code",
   "execution_count": 62,
   "id": "8faa1353",
   "metadata": {},
   "outputs": [
    {
     "data": {
      "text/plain": [
       "0"
      ]
     },
     "execution_count": 62,
     "metadata": {},
     "output_type": "execute_result"
    }
   ],
   "source": [
    "8%2"
   ]
  },
  {
   "cell_type": "code",
   "execution_count": 93,
   "id": "c5e84bc1",
   "metadata": {},
   "outputs": [
    {
     "ename": "IndexError",
     "evalue": "list index out of range",
     "output_type": "error",
     "traceback": [
      "\u001b[0;31m---------------------------------------------------------------------------\u001b[0m",
      "\u001b[0;31mIndexError\u001b[0m                                Traceback (most recent call last)",
      "Cell \u001b[0;32mIn [93], line 21\u001b[0m\n\u001b[1;32m     17\u001b[0m     \u001b[38;5;28;01mreturn\u001b[39;00m numbers\n\u001b[1;32m     19\u001b[0m num \u001b[38;5;241m=\u001b[39m [\u001b[38;5;241m6\u001b[39m,\u001b[38;5;241m3\u001b[39m,\u001b[38;5;241m5\u001b[39m,\u001b[38;5;241m4\u001b[39m,\u001b[38;5;241m2\u001b[39m]\n\u001b[0;32m---> 21\u001b[0m \u001b[43msegregate_evens_and_odds\u001b[49m\u001b[43m(\u001b[49m\u001b[43mnum\u001b[49m\u001b[43m)\u001b[49m\n",
      "Cell \u001b[0;32mIn [93], line 14\u001b[0m, in \u001b[0;36msegregate_evens_and_odds\u001b[0;34m(numbers)\u001b[0m\n\u001b[1;32m     11\u001b[0m \u001b[38;5;28;01mfor\u001b[39;00m i \u001b[38;5;129;01min\u001b[39;00m \u001b[38;5;28mrange\u001b[39m(\u001b[38;5;241m0\u001b[39m,n):\n\u001b[1;32m     13\u001b[0m     \u001b[38;5;28;01mif\u001b[39;00m numbers[i] \u001b[38;5;241m%\u001b[39m \u001b[38;5;241m2\u001b[39m \u001b[38;5;241m!=\u001b[39m \u001b[38;5;241m0\u001b[39m:\n\u001b[0;32m---> 14\u001b[0m         numbers[i],numbers[k] \u001b[38;5;241m=\u001b[39m \u001b[43mnumbers\u001b[49m\u001b[43m[\u001b[49m\u001b[43mk\u001b[49m\u001b[43m]\u001b[49m, numbers[i]\n\u001b[1;32m     15\u001b[0m         k \u001b[38;5;241m-\u001b[39m\u001b[38;5;241m=\u001b[39m \u001b[38;5;241m1\u001b[39m\n\u001b[1;32m     17\u001b[0m \u001b[38;5;28;01mreturn\u001b[39;00m numbers\n",
      "\u001b[0;31mIndexError\u001b[0m: list index out of range"
     ]
    }
   ],
   "source": [
    "def segregate_evens_and_odds(numbers):\n",
    "    \"\"\"\n",
    "    Args:\n",
    "     numbers(list_int32)\n",
    "    Returns:\n",
    "     list_int32\n",
    "    \"\"\"\n",
    "    \n",
    "    n = len(numbers)  \n",
    "    k = n\n",
    "    for i in range(0,n):\n",
    "        \n",
    "        if numbers[i] % 2 != 0:\n",
    "            numbers[i],numbers[k] = numbers[k], numbers[i]\n",
    "            k -= 1\n",
    "                \n",
    "    return numbers\n",
    "\n",
    "num = [6,3,5,4,2]\n",
    "segregate_evens_and_odds(num)"
   ]
  },
  {
   "cell_type": "code",
   "execution_count": 92,
   "id": "6c7be4a3",
   "metadata": {},
   "outputs": [
    {
     "data": {
      "text/plain": [
       "[6, 4, 2, 3, 5]"
      ]
     },
     "execution_count": 92,
     "metadata": {},
     "output_type": "execute_result"
    }
   ],
   "source": [
    "def segregate_evens_and_odds(A):\n",
    "    n = len(A)\n",
    "    j = 0\n",
    "    \n",
    "    for i in range(n):\n",
    "        if A[i] % 2 == 0:\n",
    "            A[i], A[j] = A[j], A[i]\n",
    "            j += 1\n",
    "    return A\n",
    "\n",
    "num = [6,3,5,4,2]\n",
    "segregate_evens_and_odds(num)"
   ]
  },
  {
   "cell_type": "code",
   "execution_count": 97,
   "id": "4d361a83",
   "metadata": {},
   "outputs": [
    {
     "data": {
      "text/plain": [
       "[6, 2, 4, 5, 3]"
      ]
     },
     "execution_count": 97,
     "metadata": {},
     "output_type": "execute_result"
    }
   ],
   "source": [
    "def segregate_evens_and_odds(numbers):\n",
    "    \"\"\"\n",
    "    Args:\n",
    "     numbers(list_int32)\n",
    "    Returns:\n",
    "     list_int32\n",
    "    \"\"\"\n",
    "    # Write your code here.\n",
    "    num_len=len(numbers)\n",
    "\n",
    "    start=0\n",
    "    end=num_len-1\n",
    "\n",
    "    while start <end:\n",
    "        while numbers[start]%2==0 and start<end:\n",
    "            start+=1\n",
    "        while numbers[end]%2==1 and end>start:\n",
    "            end=end-1\n",
    "        \n",
    "        #exchange before going up\n",
    "        temp=numbers[end]\n",
    "        numbers[end]=numbers[start]\n",
    "        numbers[start]=temp\n",
    "        \n",
    "        start=start+1\n",
    "        end=end-1\n",
    "    return numbers\n",
    "num = [6,3,5,4,2]\n",
    "segregate_evens_and_odds(num) "
   ]
  },
  {
   "cell_type": "code",
   "execution_count": 98,
   "id": "35e2d384",
   "metadata": {},
   "outputs": [
    {
     "data": {
      "text/plain": [
       "[6, 3, 5, 4, 2]"
      ]
     },
     "execution_count": 98,
     "metadata": {},
     "output_type": "execute_result"
    }
   ],
   "source": [
    "def segregate_evens_and_odds(numbers):\n",
    "    \"\"\"\n",
    "    Args:\n",
    "     numbers(list_int32)\n",
    "    Returns:\n",
    "     list_int32\n",
    "    \"\"\"\n",
    "    \n",
    "    # Try 2 pointer pass approach\n",
    "    n = len(numbers)\n",
    "    start,end = 0,n-1\n",
    "    \n",
    "    while start <= end:\n",
    "        \n",
    "        if numbers[start]% 2== 0 :\n",
    "            start+=1\n",
    "        elif numbers[end]% 2== 1 :\n",
    "            end-=1\n",
    "        else:    \n",
    "            numbers[start], numbers[end] = numbers[start], numbers[end]\n",
    "            start += 1\n",
    "            end -= 1\n",
    "    return numbers\n",
    "num = [6,3,5,4,2]\n",
    "segregate_evens_and_odds(num)        "
   ]
  },
  {
   "cell_type": "code",
   "execution_count": 101,
   "id": "18a71e89",
   "metadata": {},
   "outputs": [
    {
     "data": {
      "text/plain": [
       "[6, 5, 2, 4, 3]"
      ]
     },
     "execution_count": 101,
     "metadata": {},
     "output_type": "execute_result"
    }
   ],
   "source": [
    "def segregate_evens_and_odds(numbers):\n",
    "    n = len(numbers)\n",
    "    orange = -1\n",
    "    for green in range(n):\n",
    "        if green%2==0:\n",
    "            orange +=1\n",
    "            numbers[green], numbers[orange] = numbers[orange], numbers[green]\n",
    "    return numbers\n",
    "\n",
    "num = [6,3,5,4,2]\n",
    "segregate_evens_and_odds(num)       "
   ]
  },
  {
   "cell_type": "code",
   "execution_count": 108,
   "id": "53be38e0",
   "metadata": {},
   "outputs": [],
   "source": [
    "arr = [6,3,5,3,5,5]\n",
    "frequency = {}\n",
    "for i in arr:\n",
    "    frequency[i] = frequency.get(i, 0) + 1\n",
    "    unique = list(frequency.keys())\n"
   ]
  },
  {
   "cell_type": "code",
   "execution_count": 109,
   "id": "bb7db834",
   "metadata": {},
   "outputs": [
    {
     "data": {
      "text/plain": [
       "[6, 3, 5]"
      ]
     },
     "execution_count": 109,
     "metadata": {},
     "output_type": "execute_result"
    }
   ],
   "source": [
    "unique"
   ]
  },
  {
   "cell_type": "code",
   "execution_count": 110,
   "id": "dc4309c5",
   "metadata": {},
   "outputs": [
    {
     "data": {
      "text/plain": [
       "{6: 1, 3: 2, 5: 3}"
      ]
     },
     "execution_count": 110,
     "metadata": {},
     "output_type": "execute_result"
    }
   ],
   "source": [
    "frequency"
   ]
  },
  {
   "cell_type": "code",
   "execution_count": null,
   "id": "d620642f",
   "metadata": {},
   "outputs": [],
   "source": []
  }
 ],
 "metadata": {
  "kernelspec": {
   "display_name": "Python 3 (ipykernel)",
   "language": "python",
   "name": "python3"
  },
  "language_info": {
   "codemirror_mode": {
    "name": "ipython",
    "version": 3
   },
   "file_extension": ".py",
   "mimetype": "text/x-python",
   "name": "python",
   "nbconvert_exporter": "python",
   "pygments_lexer": "ipython3",
   "version": "3.9.2"
  }
 },
 "nbformat": 4,
 "nbformat_minor": 5
}
