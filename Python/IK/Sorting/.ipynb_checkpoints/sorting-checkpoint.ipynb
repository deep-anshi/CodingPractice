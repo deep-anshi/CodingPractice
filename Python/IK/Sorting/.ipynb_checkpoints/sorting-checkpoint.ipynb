{
 "cells": [
  {
   "cell_type": "markdown",
   "id": "09bdef85",
   "metadata": {},
   "source": [
    "# Sorting "
   ]
  },
  {
   "cell_type": "markdown",
   "id": "129d5fd8",
   "metadata": {},
   "source": [
    "Running time is given more importance as its dependent on speed of processor which doesn't change whereas memory is easy to augment by adding more and more memory cards\n"
   ]
  },
  {
   "cell_type": "markdown",
   "id": "9465d153",
   "metadata": {},
   "source": [
    "For each value of i, the inner loop executes cn operations for some constant c. So total running time would be proportional to n2."
   ]
  },
  {
   "cell_type": "markdown",
   "id": "d9a3dce8",
   "metadata": {},
   "source": [
    "For each value of i, there are n values of j that are taken one by one. And for each value of j, there are n values that k takes one by one. So the total number of combinations is n*n*n = O(n3)"
   ]
  },
  {
   "cell_type": "markdown",
   "id": "c333e6be",
   "metadata": {},
   "source": [
    "When i = 1, the inner loop is run n-1 times. \n",
    "\n",
    "When i = 2, it is run n-2 times. \n",
    "\n",
    "And so on. \n",
    "\n",
    "(n-1) + (n-2) + … 1 = O(n2)"
   ]
  },
  {
   "cell_type": "markdown",
   "id": "0fb04059",
   "metadata": {},
   "source": [
    "## Selection Sort  (Also the Brute force algorithm in this case)"
   ]
  },
  {
   "cell_type": "code",
   "execution_count": 9,
   "id": "a1bdc78d",
   "metadata": {},
   "outputs": [
    {
     "data": {
      "text/plain": [
       "[1, 4, 5, 5, 7, 8, 71, 87, 89]"
      ]
     },
     "execution_count": 9,
     "metadata": {},
     "output_type": "execute_result"
    }
   ],
   "source": [
    "def selectionSort(nums):\n",
    "    n = len(nums)\n",
    "    # for i in 0 to n-1 \n",
    "    for i in range(0,n):\n",
    "        #ith iteration: find the min element from i to n-1, and put it back to index i \n",
    "        minvalue = nums[i]\n",
    "        minvalueindex = i\n",
    "        \n",
    "        for m in range(i+1,n):\n",
    "            if nums[m] < minvalue:\n",
    "                minvalue = nums[m] \n",
    "                minvalueindex = m\n",
    "                #nums[i],nums[minvalueindex] = nums[minvalueindex], nums[i] [DON'T ADD THIS LINE HERE]\n",
    "                # As you want to swap at the end once you have chosen the min element m from i+1 to n elements\n",
    "        \n",
    "        # At this point the index of minimum element in nums[i,n-1] is known to be minvalueindex\n",
    "        # Put it in index i, by whatever is there ( swap final minvalue with nums[i] )\n",
    "        nums[i],nums[minvalueindex] = nums[minvalueindex], nums[i]\n",
    "    return(nums)\n",
    "\n",
    "A = [4,7,8,89,1,5,87,5,71]\n",
    "selectionSort(A)"
   ]
  },
  {
   "cell_type": "markdown",
   "id": "3b2f6644",
   "metadata": {},
   "source": [
    "## Bubble Sort (Worst algo)"
   ]
  },
  {
   "cell_type": "markdown",
   "id": "84a81d2b",
   "metadata": {},
   "source": [
    "**Suppose you are given an array of n distinct integers as input, that is already sorted. The numbers increase from left to right, but you don’t know it. You decide to sort the array using bubble sort. How many SWAP operations will bubble sort perform?**\n",
    "\n",
    "There will be no swaps. Every comparison will reveal that the two elements are already in the right order. Note that even though the number of swaps is 0, the running time of the algorithm will still be O(n^2) because we still do the same number of comparisons, regardless of whether the array is already sorted, reverse sorted or not ordered. "
   ]
  },
  {
   "cell_type": "code",
   "execution_count": 13,
   "id": "4eeeb419",
   "metadata": {},
   "outputs": [
    {
     "data": {
      "text/plain": [
       "[1, 4, 5, 5, 7, 8, 71, 87, 89]"
      ]
     },
     "execution_count": 13,
     "metadata": {},
     "output_type": "execute_result"
    }
   ],
   "source": [
    "def bubbleSort(nums):\n",
    "    n=len(nums)\n",
    "    # for i from 0 to n-1\n",
    "    for i in range(0,n):\n",
    "        # find the minimum element by scanning the array from index n-1 to index i+1 and \n",
    "        # swapping the current element with the element on its left, if they are out of order\n",
    "        # i.e bubble the minimum element from right to left\n",
    "        for m in range(n-1, i, -1):\n",
    "            if nums[m] < nums[m-1]:\n",
    "                nums[m], nums[m-1] = nums[m-1], nums[m]\n",
    "            \n",
    "    return(nums) \n",
    "\n",
    "A = [4,7,8,89,1,5,87,5,71]\n",
    "bubbleSort(A)"
   ]
  },
  {
   "cell_type": "code",
   "execution_count": 20,
   "id": "df0b0031",
   "metadata": {},
   "outputs": [
    {
     "data": {
      "text/plain": [
       "[0, 1, 2, 3, 4]"
      ]
     },
     "execution_count": 20,
     "metadata": {},
     "output_type": "execute_result"
    }
   ],
   "source": [
    "list(range(0,5))"
   ]
  },
  {
   "cell_type": "code",
   "execution_count": 22,
   "id": "3150bf1c",
   "metadata": {},
   "outputs": [
    {
     "data": {
      "text/plain": [
       "[4, 3, 2, 1]"
      ]
     },
     "execution_count": 22,
     "metadata": {},
     "output_type": "execute_result"
    }
   ],
   "source": [
    "list(range(4, 0, -1))"
   ]
  },
  {
   "cell_type": "markdown",
   "id": "7179185e",
   "metadata": {},
   "source": [
    "## Insertion Sort"
   ]
  },
  {
   "cell_type": "markdown",
   "id": "ae34e6fe",
   "metadata": {},
   "source": [
    "we found that running time here is not purely a function of input size but also the nature of input, how ordered input array already was. This has a while loop which intorduces variablilty how many times the loop is executed unlike selection and bubble sort algo's and thus they didn't have best, avg and worst case scenario's time complexity."
   ]
  },
  {
   "cell_type": "code",
   "execution_count": 262,
   "id": "b6b0d48a",
   "metadata": {},
   "outputs": [
    {
     "data": {
      "text/plain": [
       "[1, 4, 5, 5, 7, 8, 71, 87, 89]"
      ]
     },
     "execution_count": 262,
     "metadata": {},
     "output_type": "execute_result"
    }
   ],
   "source": [
    "def insertionSort(nums):\n",
    "    n = len(nums)\n",
    "    for i in range(n):\n",
    "        curr = nums[i]\n",
    "        \n",
    "        j = i-1\n",
    "        while j>=0 and nums[j]>curr:\n",
    "            nums[j+1], nums[j] = nums[j], nums[j+1] # why nums[j+1] = nums[j] works too??\n",
    "            j -= 1\n",
    "        nums[j+1] = curr\n",
    "    \n",
    "    return(nums)\n",
    "\n",
    "A = [4,7,8,89,1,5,87,5,71]\n",
    "insertionSort(A)\n",
    "# https://www.geeksforgeeks.org/insertion-sort/"
   ]
  },
  {
   "cell_type": "markdown",
   "id": "5d8b3086",
   "metadata": {},
   "source": [
    "## Merge sort"
   ]
  },
  {
   "cell_type": "markdown",
   "id": "dd5779c5",
   "metadata": {},
   "source": [
    "running time for internal node worker = C(size of subproblem)\n",
    "\n",
    "running time for leaf worker = C'\n",
    "\n",
    "T(n) = prelevel work * # levels in tree\n",
    "\n",
    "     = (sum of #nodes at every level * sum of size of subproblem at every level) * #levels in tree\n",
    "     \n",
    "     = Cn * # levels in tree\n",
    "     \n",
    "     = Cn(logn+1) ~ n*log(n)"
   ]
  },
  {
   "cell_type": "code",
   "execution_count": 255,
   "id": "7eaffaeb",
   "metadata": {},
   "outputs": [
    {
     "name": "stdout",
     "output_type": "stream",
     "text": [
      "[1, 4, 5, 5, 7, 8, 71, 87, 89]\n"
     ]
    }
   ],
   "source": [
    "def helper(A, start, end):\n",
    "    # Base case: subproblem of size 0 or 1, return as it is\n",
    "    if start >= end:\n",
    "        return\n",
    "\n",
    "    # Recursive case: subproblem of size at least 2, so cut the subarray into\n",
    "    # 2 halves and delegate sorting 2 more people hired under you\n",
    "\n",
    "    # To make the 2 halves, find the midpoint\n",
    "    mid = (start + end) // 2  # Use integer division\n",
    "    # left half = nums[start . . . mid] and right half = nums[mid+1,... end]\n",
    "    # sort left half\n",
    "    helper(A, start, mid)\n",
    "    # sort right half\n",
    "    helper(A, mid + 1, end)\n",
    "\n",
    "    # Merge the 2 sorted subarrays with 2-pointer pass approach\n",
    "    i = start\n",
    "    j = mid + 1\n",
    "    i = int(i)\n",
    "    j = int(j)\n",
    "    aux = []\n",
    "\n",
    "    while i <= mid and j <= end:\n",
    "        if A[i] <= A[j]:\n",
    "            aux.append(A[i])\n",
    "            i += 1\n",
    "        else:\n",
    "            aux.append(A[j])\n",
    "            j += 1\n",
    "\n",
    "    while i <= mid:\n",
    "        aux.append(A[i])\n",
    "        i += 1\n",
    "\n",
    "    while j <= end:\n",
    "        aux.append(A[j])\n",
    "        j += 1\n",
    "    \n",
    "    # copy the elements from temporary aux space back into the original subarray\n",
    "    A[start:end + 1] = aux\n",
    "\n",
    "    return\n",
    "\n",
    "\n",
    "def mergeSort(A):\n",
    "    helper(A, 0, len(A) - 1)\n",
    "    return A\n",
    "\n",
    "A = [4, 7, 8, 89, 1, 5, 87, 5, 71]\n",
    "mergeSort(A)\n",
    "print(A)"
   ]
  },
  {
   "cell_type": "code",
   "execution_count": null,
   "id": "61227f98",
   "metadata": {},
   "outputs": [],
   "source": []
  },
  {
   "cell_type": "markdown",
   "id": "f7413770",
   "metadata": {},
   "source": [
    "#### go over recurrence equation video"
   ]
  },
  {
   "cell_type": "markdown",
   "id": "91d01f84",
   "metadata": {},
   "source": [
    "If the running time of an algorithm is Ө(n), that means it roughly runs in time cn for some constant c. i.e, it runs in linear time. If the running time of an algorithm is O(n), that means it runs in time at most cn for some constant c. i.e, it runs in \"at most\" linear time. This means if T(n) = Ө(n^2), then T(n) is also O(n^2)."
   ]
  },
  {
   "cell_type": "markdown",
   "id": "74051b10",
   "metadata": {},
   "source": [
    "log((base2)n) = 32; \n",
    "n=> 5\n",
    "\n",
    "2^(log(base2)n) = n\n",
    "\n",
    "log(base2(2^h)) =h"
   ]
  },
  {
   "cell_type": "markdown",
   "id": "44fc23a6",
   "metadata": {},
   "source": [
    "## Timsort\n",
    "\n",
    "Combined merge sort and insertion sort for worst case O(nlogn) time \n",
    "[when n is large] and best case O(n) time\n",
    "[when array is sorted or almost sorted, n is small] \n",
    "\n",
    "Timsort has been python's standard sorting algorithm since version 2.3"
   ]
  },
  {
   "cell_type": "markdown",
   "id": "e5cd68a7",
   "metadata": {},
   "source": [
    "## Inplace/ space complexity\n",
    "**The overall space complexity of selection sort, bubble sort and insertion sort is** O(n)\n",
    "\n",
    "All three algorithms are in-place, so they work directly on the input array, which takes up O(n) space. \n",
    "\n",
    "Please see https://www.geeksforgeeks.org/g-fact-86/amp/\n",
    "\n",
    "\"Overall space complexity\" would include the space taken by the input as well as additional auxiliary space needed by the algorithm. If it was auxiliary space only, then it would be O(1). When asking specifically about auxiliary space, the question can sometimes be asked as \"how much extra space is needed by the algorithm?\"\n",
    "\n"
   ]
  },
  {
   "cell_type": "markdown",
   "id": "2ee5cc62",
   "metadata": {},
   "source": [
    "**How much auxiliary space does Merge Sort use?**\n",
    "\n",
    "To merge the two sorted subarrays of size n/2, merge sort needs an auxiliary array of size n to temporarily store the output. "
   ]
  },
  {
   "cell_type": "markdown",
   "id": "c5600ab4",
   "metadata": {},
   "source": [
    "**What is the running time of QuickSort on a sorted array? Assume that the first element is always chosen as the pivot.** \n",
    "\n",
    "O(n^2)\n",
    "\n",
    "In every recursive call, partitioning will leave an empty left partition and all the other elements (except the pivot) in the right partition. \n",
    "\n",
    "So T(n) = T(n-1) + cn\n",
    "\n",
    "This means T(n) is O(n^2)\n",
    "\n"
   ]
  },
  {
   "cell_type": "markdown",
   "id": "6647cac8",
   "metadata": {},
   "source": [
    "**What is the running time of QuickSort on an array with all elements equal? Assume that the pivot element is picked randomly.**\n",
    "\n",
    "To address this, we need a three-way partition: the left partition having elements < pivot, the middle partition having elements = pivot, and the right partition having elements > pivot. \n",
    "\n",
    "3-way partitioning is better as the middle partition will have lots of elements, and so the sizes of the two subproblems on the left and right will be smaller with 3-way partitioning. \n"
   ]
  },
  {
   "cell_type": "markdown",
   "id": "d49fd961",
   "metadata": {},
   "source": [
    "Out of all algo's, only merge sort is not in-place"
   ]
  },
  {
   "cell_type": "markdown",
   "id": "777e9c8c",
   "metadata": {},
   "source": [
    "## Stability\n",
    "Out of algo's only slection and quick sort is not stable"
   ]
  },
  {
   "cell_type": "markdown",
   "id": "7761d7a9",
   "metadata": {},
   "source": [
    "## Quick Sort"
   ]
  },
  {
   "cell_type": "code",
   "execution_count": 234,
   "id": "6fa085df",
   "metadata": {},
   "outputs": [
    {
     "data": {
      "text/plain": [
       "[1, 4, 5, 5, 7, 8, 71, 87, 89]"
      ]
     },
     "execution_count": 234,
     "metadata": {},
     "output_type": "execute_result"
    }
   ],
   "source": [
    "# Lomuto's partinioning\n",
    "\n",
    "def helper_lomuto(A,start,end):\n",
    "    # base case: subproblem of size 0 or 1 \n",
    "    if start>=end:\n",
    "        return\n",
    "\n",
    "    # recursive case: subproblem of atleast size 2, divide the subarray into 2 halves and delegate sorting \n",
    "    #to two other ppl hired under you\n",
    "    #two make the 2 halves, partition array around a random value\n",
    "    # Pick a random pivot\n",
    "    import random\n",
    "    pindex = random.randint(start,end)\n",
    "    #move it to extreme left\n",
    "    A[pindex], A[start] = A[start],A[pindex]\n",
    "    \n",
    "    orange=start\n",
    "    for green in range(start+1, end+1):\n",
    "        if A[green] < A[start]:\n",
    "            orange += 1 #to expand the orange segment\n",
    "            A[orange], A[green] = A[green], A[orange]\n",
    "            \n",
    "    # Now move the pivot at the boundary of orange and green i.e at its right place\n",
    "    A[start], A[orange] = A[orange], A[start]\n",
    "    \n",
    "    #Now pivot is it orange place, now split the arracy into 2 halves except pivot as its at its right position\n",
    "    helper(A, start, orange-1)\n",
    "    helper(A, orange+1, end)\n",
    "\n",
    "    \n",
    "def quickSort(A):\n",
    "    helper_lomuto(A, 0, len(A)-1)\n",
    "    return(A)\n",
    "\n",
    "A = [4,7,8,89,1,5,87,5,71]\n",
    "quickSort(A)"
   ]
  },
  {
   "cell_type": "code",
   "execution_count": 261,
   "id": "50ac7bd0",
   "metadata": {},
   "outputs": [
    {
     "data": {
      "text/plain": [
       "[8, 7, 4, 89, 1, 5, 87, 5, 71]"
      ]
     },
     "execution_count": 261,
     "metadata": {},
     "output_type": "execute_result"
    }
   ],
   "source": [
    "## Hoare's partitioning\n",
    "def helper_hoare(A, start, end):\n",
    "    smaller, bigger = start+1, end\n",
    "    \n",
    "    while smaller <= bigger:\n",
    "        if A[smaller] < A[bigger]:\n",
    "            smaller += 1\n",
    "        elif A[smaller] > A[bigger]:  \n",
    "            bigger -= 1\n",
    "        else:\n",
    "            A[smaller], A[bigger] = A[bigger], A[smaller]\n",
    "            smaller += 1\n",
    "            bigger -= 1\n",
    "    A[start], A[bigger] = A[bigger], A[start]\n",
    "        \n",
    "def quickSort(A):\n",
    "    helper_hoare(A, 0, len(A)-1)\n",
    "    return(A)\n",
    "\n",
    "A = [4,7,8,89,1,5,87,5,71]\n",
    "quickSort(A)       "
   ]
  },
  {
   "cell_type": "markdown",
   "id": "142d1dd0",
   "metadata": {},
   "source": [
    "## Binary heap and heapsort \n",
    "\n",
    "Binary heap\n",
    "\n",
    "since time complexity of insert operation is log(n)[equal to height of tree], inserting n elements into the heap would take O(nlogn)\n",
    "\n",
    "\n",
    "\n",
    "and since time complexity of delete operation is log(n)[equal to height of tree], deleting n elements into the heap would take O(nlogn)\n",
    "\n",
    "\n",
    "\n",
    "T(n) = O(nlogn) + O(nlogn) => O(nlogn)\n",
    "\n",
    "\n",
    "\n",
    "Implement and building of heapsort can be done in-place\n",
    "\n",
    "\n",
    "\n",
    "Buildheap can be optimized and could be time complexity of O(n) \n",
    "\n",
    "i.e n is the number of swap opeations that we did while doing buildHeap as a whole. In buildheap we went from right to left and 90% of the tree are found at bottom three levels, for which we had to do hardly any work. Most work is done for nodes close to root, but those are very few in number.\n",
    "\n",
    "\n",
    "\n",
    "Buildheap here just cut down the time complexity for Insertion, total T(n) would still remain same \n",
    "\n",
    "Heapsort = O(n) + O(nlogn) = O(nlogn)\n",
    "\n",
    "\n",
    "\n",
    "Heapsort is **in-place** -> yes, can be\n",
    "\n",
    "**Stable?** since all operations involve swapping nodes with parents, which means that we doing long range swaps, and thus it's less likely to be stable i.e relative ordering is not maintained\n",
    "\n"
   ]
  },
  {
   "cell_type": "code",
   "execution_count": 235,
   "id": "2a9a35f9",
   "metadata": {},
   "outputs": [
    {
     "data": {
      "text/plain": [
       "[1, 4, 5, 5, 7, 8, 71, 87, 89]"
      ]
     },
     "execution_count": 235,
     "metadata": {},
     "output_type": "execute_result"
    }
   ],
   "source": [
    "def heapSort(nums):\n",
    "    \n",
    "    import heapq\n",
    "    heapq.heapify(nums) #build minheap onto the input array\n",
    "    result=[]\n",
    "    while len(nums)>0:\n",
    "        result.append(heapq.heappop(nums))#keep popping off sucessive elements from minheap until its empty\n",
    "    return result\n",
    "\n",
    "A = [4,7,8,89,1,5,87,5,71]\n",
    "heapSort(A)"
   ]
  },
  {
   "cell_type": "markdown",
   "id": "e6fc5147",
   "metadata": {},
   "source": [
    "Building a heap with n keys can be done in O(n) time. This might be surprising, as many heap operations like insertion or deletion take O(log n) time.\n",
    "\n",
    "\n",
    "\n",
    "The O(n) time complexity for heap construction comes from an optimized approach called the \"bottom-up heap construction\" or \"heapify\" method. In this method, we start from the bottom of the heap and work our way up, ensuring that the heap property is maintained for each subtree.\n",
    "\n",
    "\n",
    "\n",
    "Here's a brief overview of the bottom-up heap construction:\n",
    "\n",
    "\n",
    "\n",
    "Start with the last internal node (the parent of the last leaf node) in the heap.\n",
    "For each node, \"heapify\" the node by ensuring that it satisfies the heap property with respect to its children.\n",
    "Move to the previous internal node and repeat step 2 until reaching the root of the heap.\n",
    "\n",
    "\n",
    "The total time required for this process is O(n) because heapifying each subtree takes O(1) time for the majority of nodes. The actual time complexity is derived from a more detailed analysis of the work done at each level of the heap."
   ]
  },
  {
   "cell_type": "markdown",
   "id": "49bc75d5",
   "metadata": {},
   "source": [
    "## Two sums and its variation"
   ]
  },
  {
   "cell_type": "code",
   "execution_count": 236,
   "id": "4832c8f1",
   "metadata": {},
   "outputs": [
    {
     "data": {
      "text/plain": [
       "(1, 4)"
      ]
     },
     "execution_count": 236,
     "metadata": {},
     "output_type": "execute_result"
    }
   ],
   "source": [
    "#code up \n",
    "\n",
    "# In case of already sorted array\n",
    "def Twosums(nums, target):\n",
    "    n = len(nums)\n",
    "    i=0\n",
    "    j=n-1\n",
    "    while i<j:\n",
    "        if nums[i] == target - nums[j]:\n",
    "            #return True # if its a yes no questions\n",
    "            return(i,j) # if value of indices are asked\n",
    "        \n",
    "        elif nums[i] > target - nums[j]:\n",
    "            j-=1\n",
    "            \n",
    "        else:\n",
    "            i+=1\n",
    "    return False\n",
    "\n",
    "A = [1, 4, 5, 5, 7, 8, 71, 87, 89]\n",
    "Twosums(A,10)    \n",
    "#This is a 2 pointer pass approach and will take only time of T(n) in case of sorted array \n",
    "\n",
    "# In case if its not a sorted array, first do presorting then"
   ]
  },
  {
   "cell_type": "markdown",
   "id": "65ad61ec",
   "metadata": {},
   "source": [
    "## Meeting rooms"
   ]
  },
  {
   "cell_type": "code",
   "execution_count": 150,
   "id": "44091e37",
   "metadata": {},
   "outputs": [
    {
     "data": {
      "text/plain": [
       "True"
      ]
     },
     "execution_count": 150,
     "metadata": {},
     "output_type": "execute_result"
    }
   ],
   "source": [
    "#Goal: In array of meeting times with given start and end times, determine if a person could attend all meetings\n",
    "#Input = [[0,30],[5,10],[15,20]]\n",
    "#output: false\n",
    "\n",
    "def attendMeetings(intervals):\n",
    "    \n",
    "    #first do presorting\n",
    "    intervals.sort(key=lambda x:x[0] )\n",
    "    n = len(intervals)\n",
    "    for i in range(0,n-1):\n",
    "        if intervals[i][1] > intervals[i+1][0]:\n",
    "            return False\n",
    "        return True\n",
    "        \n",
    "intervals=[[0,30],[5,10],[15,20]]\n",
    "intervals=[[7,10],[2,4]]\n",
    "attendMeetings(intervals)    "
   ]
  },
  {
   "cell_type": "markdown",
   "id": "a71f61cb",
   "metadata": {},
   "source": [
    "## Three sum "
   ]
  },
  {
   "cell_type": "code",
   "execution_count": 239,
   "id": "8d5e6a9c",
   "metadata": {},
   "outputs": [
    {
     "data": {
      "text/plain": [
       "['-1,-1,2', '-1,0,1']"
      ]
     },
     "execution_count": 239,
     "metadata": {},
     "output_type": "execute_result"
    }
   ],
   "source": [
    "# Brute force\n",
    "#A simple solution is to use three nested loops and check for each possible combination if their sum is zero. \n",
    "#To avoid duplicate answers, we need to hash the triplet and store it in a set. \n",
    "#An easy way to hash a triplet is by converting it to a string.\n",
    "\n",
    "#Extra space needed will be the number of unique triplets that contribute to the answer.\n",
    "\"\"\"\n",
    "Asymptotic complexity in terms of size of `arr` `n`:\n",
    "* Time: O(n^3).\n",
    "* Auxiliary space: O(1).\n",
    "* Total space: O(n^2).\n",
    "\"\"\"\n",
    "def sum3_zero(nums):\n",
    "    n = len(nums)\n",
    "    res = set() #set to avoid duplictate values\n",
    "    nums.sort()\n",
    "    for i in range(n):\n",
    "        for j in range(i+1, n):\n",
    "            for k in range(j+1, n):\n",
    "                if nums[i]+nums[j]+nums[k] == 0:\n",
    "                    res.add(f\"{nums[i]},{nums[j]},{nums[k]}\")\n",
    "    return list(res)\n",
    "\n",
    "input = [-1,0,1,2,-1,-4]                \n",
    "sum3_zero(input)    "
   ]
  },
  {
   "cell_type": "code",
   "execution_count": 241,
   "id": "088ec4b9",
   "metadata": {},
   "outputs": [
    {
     "data": {
      "text/plain": [
       "['-1,-1,2', '-1,0,1']"
      ]
     },
     "execution_count": 241,
     "metadata": {},
     "output_type": "execute_result"
    }
   ],
   "source": [
    "# Optimal solution\n",
    "#This solution uses the Two Pointers Technique. We maintain left and right pointers to elements of a sorted array. \n",
    "#If their sum is greater than intended we decrease the right pointer, otherwise we increase the left pointer. \n",
    "#This method works in linear time, and to solve this particular problem we use this algorithm n times, once for each element in arr.\n",
    "\n",
    "#First, we will sort arr, that will contribute O(nlog(n)) to the time complexity. \n",
    "#Then, for every element or arr, we will apply the two pointer technique to find any magic triplets that include that\n",
    "#element. We will then add unique triplets to the answer.\n",
    "\n",
    "def sum3_zero(nums):\n",
    "    n = len(nums)\n",
    "    res = set() # To avoid duplicates.\n",
    "    nums.sort() # Sorting is a prerequisite for the two pointer technique to work.\n",
    "    \n",
    "    for i in range(n):\n",
    "        currElem = nums[i]\n",
    "        neededSum = -currElem # target - nums[i], incase we don't have 3 sum to be 0 but sum target #\n",
    "        left, right = i+1, n-1\n",
    "        \n",
    "        while left < right :\n",
    "            if nums[left] + nums[right] == neededSum:\n",
    "                res.add(f\"{nums[i]},{nums[left]},{nums[right]}\")\n",
    "                left +=1 # \"right -= 1\" would also work fine here.\n",
    "                # Note that the three numbers in our magic triplet strings\n",
    "                # will always be sorted in the increasing order because\n",
    "                # we sorted the array and because index > left > right.\n",
    "                # That and using a set to store the strings is enough for\n",
    "                # avoiding duplicates in the answer.\n",
    "                \n",
    "            elif nums[left] + nums[right] > neededSum:\n",
    "                right -=1\n",
    "                \n",
    "            else:   \n",
    "                left +=1 \n",
    "                \n",
    "    return list(res)          \n",
    "            \n",
    "        \n",
    "input = [-1,0,1,2,-1,-4]                \n",
    "sum3_zero(input)     "
   ]
  },
  {
   "cell_type": "markdown",
   "id": "faac813e",
   "metadata": {},
   "source": [
    "## Intersection & / union of 2 arrays"
   ]
  },
  {
   "cell_type": "code",
   "execution_count": 240,
   "id": "6181b860",
   "metadata": {},
   "outputs": [
    {
     "data": {
      "text/plain": [
       "[2, 2]"
      ]
     },
     "execution_count": 240,
     "metadata": {},
     "output_type": "execute_result"
    }
   ],
   "source": [
    "def andSet(A,B):\n",
    "    i,j = 0,0\n",
    "    result = []\n",
    "    \n",
    "    #merge phase\n",
    "    while i<len(A) and j <len(B):\n",
    "        if A[i] == B[j]:\n",
    "            result.append(A[i])\n",
    "            i+=1\n",
    "            j+=1\n",
    "            \n",
    "        elif A[i] < B[j]:\n",
    "            #result.add(A[i])  #for or/union case\n",
    "            i+=1\n",
    "            \n",
    "        else :\n",
    "            #result.add(B[j])  #for or/union case\n",
    "            j+=1\n",
    "      \n",
    "    #gather phase for or/union case\n",
    "    #while  i<len(A):\n",
    "     #   result.add(A[i])\n",
    "      #  i+=1\n",
    "        \n",
    "    #while j <len(B):\n",
    "     #   result.add(B[j])\n",
    "      #  j+=1\n",
    "    return result\n",
    "        \n",
    "nums1=[1,2,2,1]\n",
    "nums2=[2,2]\n",
    "andSet(nums1,nums2)"
   ]
  },
  {
   "cell_type": "code",
   "execution_count": 166,
   "id": "b09e009a",
   "metadata": {},
   "outputs": [
    {
     "data": {
      "text/plain": [
       "[1, 2, 2, 1]"
      ]
     },
     "execution_count": 166,
     "metadata": {},
     "output_type": "execute_result"
    }
   ],
   "source": [
    "def orSet(A,B):\n",
    "    i,j = 0,0\n",
    "    result = []\n",
    "    \n",
    "    #merge phase\n",
    "    while i<len(A) and j <len(B):\n",
    "        if A[i] == B[j]:\n",
    "            result.append(A[i])\n",
    "            i+=1\n",
    "            j+=1\n",
    "            \n",
    "        elif A[i] < B[j]:\n",
    "            result.append(A[i])  #for or/union case\n",
    "            i+=1\n",
    "            \n",
    "        else :\n",
    "            result.append(B[j])  #for or/union case\n",
    "            j+=1\n",
    "      \n",
    "    #gather phase for or/union case\n",
    "    while  i<len(A):\n",
    "        result.append(A[i])\n",
    "        i+=1\n",
    "        \n",
    "    while j <len(B):\n",
    "        result.append(B[j])\n",
    "        j+=1\n",
    "    return result\n",
    "        \n",
    "nums1=[1,2,2,1]\n",
    "nums2=[2,2]\n",
    "orSet(nums1,nums2)"
   ]
  },
  {
   "cell_type": "markdown",
   "id": "7f0ffb5e",
   "metadata": {},
   "source": [
    "## Intersection/ union of 3 arrays"
   ]
  },
  {
   "cell_type": "code",
   "execution_count": 168,
   "id": "492d80f3",
   "metadata": {},
   "outputs": [
    {
     "data": {
      "text/plain": [
       "[1, 5]"
      ]
     },
     "execution_count": 168,
     "metadata": {},
     "output_type": "execute_result"
    }
   ],
   "source": [
    "def andSet_3array(A,B,C):\n",
    "    i,j,k = 0,0,0\n",
    "    res = []\n",
    "    \n",
    "    while i<len(A) and j<len(B) and k<len(C):\n",
    "        if A[i] == B[j] == C[k]:\n",
    "            res.append(A[i])\n",
    "            i+=1\n",
    "            j+=1\n",
    "            k+=1\n",
    "            \n",
    "        elif A[i]<=B[j] and A[i]<=C[k]:\n",
    "            i+=1\n",
    "        \n",
    "        elif B[j]<A[i] and B[j]<=C[k]:\n",
    "            j+=1\n",
    "        \n",
    "        else:\n",
    "            k+=1\n",
    "    return res\n",
    "\n",
    "\n",
    "nums1=[1,2,3,4,5]\n",
    "nums2=[1,2,5,7,9]\n",
    "nums3=[1,1,3,4,5,8]\n",
    "andSet_3array(nums1,nums2,nums3)"
   ]
  },
  {
   "cell_type": "markdown",
   "id": "d556e341",
   "metadata": {},
   "source": [
    "## Merge a sorted array "
   ]
  },
  {
   "cell_type": "code",
   "execution_count": 242,
   "id": "38a285f3",
   "metadata": {},
   "outputs": [
    {
     "data": {
      "text/plain": [
       "[1, 2, 3, 4, 5, 6]"
      ]
     },
     "execution_count": 242,
     "metadata": {},
     "output_type": "execute_result"
    }
   ],
   "source": [
    "#We are only allowed to use constant auxiliary space, and that rules out merging into a third array. \n",
    "#We can start merging from the end and use that \"unoccupied\" second half of the second array to store the intermediate\n",
    "#result. We fill the second array starting with the largest numbers which we place at the end.\n",
    "\n",
    "#We could in principle do the same thing but from the beginning: for that we would first need to move all the numbers \n",
    "#in the second array to its second half. We didn't do that because that adds one more loop unnecessarily.\n",
    "    \n",
    "\"\"\"\n",
    "Asymptotic complexity in terms of size of `first` `n`:\n",
    "* Time: O(n). We traverse the two arrays only once and do a constant amount of work per element.\n",
    "* Auxiliary space: O(1).\n",
    "* Total space: O(n).\n",
    "\"\"\"\n",
    "\n",
    "def merge_fist_into_sec(arr1,arr2): #len(arr1) < len(arr2)\n",
    "    n=len(arr1)\n",
    "    i=j=n-1\n",
    "    k=len(arr2)-1\n",
    "    \n",
    "    #merge phase\n",
    "    while i>=0 and j>=0:\n",
    "        if arr1[i] >= arr2[j]:\n",
    "            arr2[k] = arr1[i]\n",
    "            k-=1\n",
    "            i-=1\n",
    "            \n",
    "        else: #arr[i] < arr2[j]\n",
    "            arr2[k] = arr2[j]\n",
    "            k-=1\n",
    "            j-=1\n",
    "    \n",
    "    #gather phase   \n",
    "    while i>=0:\n",
    "        arr2[k] = arr1[i]\n",
    "        k-=1\n",
    "        i-=1 \n",
    "        \n",
    "    while j>=0: # this case is not needed, why though?\n",
    "        arr2[k] = arr1[j]\n",
    "        k-=1\n",
    "        i-=1\n",
    "        \n",
    "    return arr2\n",
    "        \n",
    "arr1= [1, 3, 5]\n",
    "arr2= [2, 4, 6, 0, 0, 0] \n",
    "merge_fist_into_sec(arr1,arr2)  "
   ]
  },
  {
   "cell_type": "code",
   "execution_count": null,
   "id": "5a7a5489",
   "metadata": {},
   "outputs": [],
   "source": [
    "#{\n",
    "#\"first\": [1, 3, 5],\n",
    "#\"second\": [2, 4, 6, 0, 0, 0]\n",
    "#}\n",
    "#output= [1, 2, 3, 4, 5, 6]\n",
    "def merge_one_into_another(first, second):\n",
    "    n = len(first)\n",
    "    last1 = n - 1\n",
    "    last2 = n - 1\n",
    "    last = n + n - 1\n",
    "\n",
    "    while last >= 0: # While at least one element remains to be processed.\n",
    "        if last1 < 0:\n",
    "            # No elements remain in the first array.\n",
    "            # Think about the case when first = [4, 5, 6] & second = [1, 2, 3, 0, 0, 0].\n",
    "            # Once last1 = -1, second will be [1, 2, 3, 4, 5, 6]. So, we can stop here.\n",
    "            break\n",
    "        elif last2 < 0:\n",
    "            # All `n` non-zero elements present in second array (initially) are used.\n",
    "            second[last] = first[last1]\n",
    "            last -= 1\n",
    "            last1 -= 1\n",
    "        elif first[last1] <= second[last2]:\n",
    "            # The next number in the second array is greater,\n",
    "            # so it goes to the next position.\n",
    "            second[last] = second[last2]\n",
    "            last -= 1\n",
    "            last2 -= 1\n",
    "        else:\n",
    "            second[last] = first[last1]\n",
    "            last -= 1\n",
    "            last1 -= 1\n",
    "\n",
    "    return second\n"
   ]
  },
  {
   "cell_type": "markdown",
   "id": "49326456",
   "metadata": {},
   "source": [
    "## Kth largest element in an array"
   ]
  },
  {
   "cell_type": "code",
   "execution_count": 200,
   "id": "07b0347f",
   "metadata": {},
   "outputs": [
    {
     "data": {
      "text/plain": [
       "89"
      ]
     },
     "execution_count": 200,
     "metadata": {},
     "output_type": "execute_result"
    }
   ],
   "source": [
    "# Randomized quickselect T(n): O(n)\n",
    "\n",
    "def lomutosPartitioning(A,start,end):\n",
    "    if start >= end:#base case\n",
    "        return\n",
    "    \n",
    "    #recursion case\n",
    "    import random\n",
    "    pindex=random.randint(start,end)\n",
    "    A[pindex], A[start] = A[start], A[pindex]\n",
    "    orange = start \n",
    "    for green in range(start+1,end+1):\n",
    "        if A[green] < A[start]:\n",
    "            orange +=1 \n",
    "            A[green], A[orange] = A[orange], A[green]\n",
    "            \n",
    "    A[orange], A[start]= A[start],A[orange]\n",
    "        \n",
    "    lomutosPartitioning(A,start,orange-1)\n",
    "    lomutosPartitioning(A,orange+1,end)\n",
    "\n",
    "\n",
    "\n",
    "def quickSelect(A,k):\n",
    "    #lomutosPartitioning(A, 0, len(A)-1) # in case of quickSort\n",
    "    lomutosPartitioning(A, 0, len(A)-k)\n",
    "    return(A[len(A)-k])\n",
    "\n",
    "A = [4,7,8,89,1,5,87,5,71]\n",
    "quickSelect(A,3) #3rd largest \n",
    "\n",
    "\n"
   ]
  },
  {
   "cell_type": "code",
   "execution_count": 202,
   "id": "516cdb87",
   "metadata": {},
   "outputs": [
    {
     "data": {
      "text/plain": [
       "89"
      ]
     },
     "execution_count": 202,
     "metadata": {},
     "output_type": "execute_result"
    }
   ],
   "source": [
    "# Kth largest\n",
    "def quickSelect(A,k):\n",
    "    #lomutosPartitioning(A, 0, len(A)-1) # in case of quickSort\n",
    "    lomutosPartitioning(A, 0, len(A)-k)\n",
    "    return(A[len(A)-k])\n",
    "\n",
    "A = [4,7,8,89,1,5,87,5,71]\n",
    "quickSelect(A,3) #3rd largest \n"
   ]
  },
  {
   "cell_type": "code",
   "execution_count": 203,
   "id": "7077a6a6",
   "metadata": {},
   "outputs": [
    {
     "data": {
      "text/plain": [
       "8"
      ]
     },
     "execution_count": 203,
     "metadata": {},
     "output_type": "execute_result"
    }
   ],
   "source": [
    "# Kth smallest\n",
    "def quickSelect(A,k):\n",
    "    lomutosPartitioning(A, 0, k-1)\n",
    "    return(A[k-1])\n",
    "\n",
    "A = [4,7,8,89,1,5,87,5,71]\n",
    "quickSelect(A,3) #3rd smallest "
   ]
  },
  {
   "cell_type": "markdown",
   "id": "3e407955",
   "metadata": {},
   "source": [
    "## K closest point to the origin"
   ]
  },
  {
   "cell_type": "code",
   "execution_count": 244,
   "id": "179ace49",
   "metadata": {},
   "outputs": [
    {
     "data": {
      "text/plain": [
       "[[2, 1]]"
      ]
     },
     "execution_count": 244,
     "metadata": {},
     "output_type": "execute_result"
    }
   ],
   "source": [
    "def kClosest(points,k):\n",
    "    li = []\n",
    "    import heapq\n",
    "    for x,y in points:\n",
    "        dist = x**2 + y**2\n",
    "        li.append([dist,x,y])\n",
    "        \n",
    "    heapq.heapify(li)\n",
    "    #heapq._heapify_max(li)        # for a maxheap!!\n",
    "    res=[]\n",
    "    while k>0:\n",
    "        dist,x,y=heapq.heappop(li)\n",
    "        res.append([x,y])\n",
    "        k-=1\n",
    "    \n",
    "    return res\n",
    "        \n",
    "kClosest([[1,3],[2,1]],1)        "
   ]
  },
  {
   "cell_type": "markdown",
   "id": "fb160561",
   "metadata": {},
   "source": [
    "## Top k frequent elements (mode)"
   ]
  },
  {
   "cell_type": "code",
   "execution_count": null,
   "id": "04fa28a2",
   "metadata": {},
   "outputs": [],
   "source": [
    "\"\"\"\n",
    "* Asymptotic complexity in terms of size of `arr` `n` and `k`:\n",
    "* Time: O(n^2).\n",
    "* Auxiliary space: O(n).\n",
    "* Total space: O(n + k).\n",
    "\"\"\"\n",
    "\n",
    "def partition(unique, low, high, frequency):\n",
    "    random_pivot_index = random.randint(low, high)\n",
    "    pivot_freq = frequency[unique[random_pivot_index]]\n",
    "\n",
    "    unique[random_pivot_index], unique[high] = unique[high], unique[random_pivot_index]\n",
    "    i = low\n",
    "\n",
    "    # This loop places the elements whose frequency is less than or equal to the frequency of\n",
    "    # the pivot element at the beginning of the subarray [low, high].\n",
    "    for j in range(low, high):\n",
    "        if frequency[unique[j]] <= pivot_freq:\n",
    "            unique[i], unique[j] = unique[j], unique[i]\n",
    "            i += 1\n",
    "\n",
    "    unique[i], unique[high] = unique[high], unique[i]\n",
    "    return i\n",
    "\n",
    "def quick_select(unique, k, frequency):\n",
    "    low, high = 0, len(unique) - 1\n",
    "\n",
    "    while low <= high:\n",
    "        pivot = partition(unique, low, high, frequency)\n",
    "\n",
    "        if pivot == len(unique) - k:\n",
    "            return\n",
    "        elif pivot > len(unique) - k:\n",
    "            high = pivot - 1\n",
    "        else:\n",
    "            low = pivot + 1\n",
    "\n",
    "def find_top_k_frequent_elements(arr, k):\n",
    "    frequency = {}\n",
    "    for i in arr:\n",
    "        frequency[i] = frequency.get(i, 0) + 1\n",
    "\n",
    "    unique = list(frequency.keys())\n",
    "\n",
    "    # Partially sorting the array based on their occurrence frequency such that\n",
    "    # the last k indices contain the Top k most frequent elements.\n",
    "    quick_select(unique, k, frequency)\n",
    "\n",
    "    return unique[-k:]\n"
   ]
  },
  {
   "cell_type": "code",
   "execution_count": null,
   "id": "735a72ac",
   "metadata": {},
   "outputs": [],
   "source": []
  },
  {
   "cell_type": "markdown",
   "id": "663d7037",
   "metadata": {},
   "source": [
    "## Median"
   ]
  },
  {
   "cell_type": "code",
   "execution_count": null,
   "id": "b9fddcf4",
   "metadata": {},
   "outputs": [],
   "source": [
    "## optimzied brute force algo\n",
    "\"\"\"\n",
    "Asymptotic complexity in terms of `n` = size of the input array:\n",
    "* Time: O(n^2).\n",
    "* Auxiliary space: O(1).\n",
    "* Total space: O(n).\n",
    "\"\"\"\n",
    "\n",
    "def online_median(stream):\n",
    "    medians = []\n",
    "\n",
    "    for i in range(len(stream)):\n",
    "        # Applying insertion sort.\n",
    "        # Insert stream[i] in stream[0, 1,..., i - 1] which is already sorted.\n",
    "        j = i - 1\n",
    "        while j >= 0 and stream[j + 1] < stream[j]:\n",
    "            stream[j + 1], stream[j] = stream[j], stream[j + 1]\n",
    "            j -= 1\n",
    "\n",
    "        median = 0\n",
    "        current_elements = i + 1\n",
    "        if current_elements % 2 == 0:\n",
    "            median = (stream[current_elements // 2] + stream[current_elements // 2 - 1]) // 2\n",
    "        else:\n",
    "            median = stream[current_elements // 2]\n",
    "\n",
    "        medians.append(median)\n",
    "\n",
    "    return medians"
   ]
  },
  {
   "cell_type": "code",
   "execution_count": null,
   "id": "c3dcaa09",
   "metadata": {},
   "outputs": [],
   "source": []
  },
  {
   "cell_type": "code",
   "execution_count": null,
   "id": "ab92ce98",
   "metadata": {},
   "outputs": [],
   "source": [
    "for i in range(1, len(intervals)):\n",
    "        if intervals[i][0] <  intervals[i-1][1]:\n",
    "            return 0\n",
    "    return 1"
   ]
  },
  {
   "cell_type": "code",
   "execution_count": 127,
   "id": "319eaa5f",
   "metadata": {},
   "outputs": [],
   "source": [
    "def segregate_evens_and_odds(numbers):\n",
    "    \"\"\"\n",
    "    Args:\n",
    "     numbers(list_int32)\n",
    "    Returns:\n",
    "     list_int32\n",
    "    \"\"\"\n",
    "    # Write your code here.\n",
    "    even = []\n",
    "    odd = []\n",
    "    for i in range(len(numbers)):\n",
    "        if numbers[i] % 2 == 0:\n",
    "            even.append(numbers[i])\n",
    "        else:\n",
    "            odd.append(numbers[i])\n",
    "    return(even+odd)\n",
    "\n",
    "\n"
   ]
  },
  {
   "cell_type": "code",
   "execution_count": 121,
   "id": "d13de2c5",
   "metadata": {},
   "outputs": [
    {
     "data": {
      "text/plain": [
       "[2, 4, 1, 3]"
      ]
     },
     "execution_count": 121,
     "metadata": {},
     "output_type": "execute_result"
    }
   ],
   "source": [
    "numbers= [1, 2, 3, 4]\n",
    "segregate_evens_and_odds(numbers)"
   ]
  },
  {
   "cell_type": "code",
   "execution_count": 103,
   "id": "2b9f6f44",
   "metadata": {},
   "outputs": [
    {
     "name": "stdout",
     "output_type": "stream",
     "text": [
      "[1]\n",
      "None\n",
      "[1, 2]\n",
      "None\n",
      "[1, 3]\n",
      "None\n",
      "[1, 2, 1, 1, 3, 4]\n",
      "None\n"
     ]
    }
   ],
   "source": [
    "numbers= [1, 2, 3, 4]\n",
    "segregate_evens_and_odds(numbers)\n"
   ]
  },
  {
   "cell_type": "code",
   "execution_count": 97,
   "id": "58985047",
   "metadata": {},
   "outputs": [
    {
     "ename": "IndexError",
     "evalue": "list index out of range",
     "output_type": "error",
     "traceback": [
      "\u001b[0;31m---------------------------------------------------------------------------\u001b[0m",
      "\u001b[0;31mIndexError\u001b[0m                                Traceback (most recent call last)",
      "Cell \u001b[0;32mIn [97], line 1\u001b[0m\n\u001b[0;32m----> 1\u001b[0m \u001b[43mnumbers\u001b[49m\u001b[43m[\u001b[49m\u001b[38;5;241;43m4\u001b[39;49m\u001b[43m]\u001b[49m\u001b[38;5;241m%\u001b[39m\u001b[38;5;241m2\u001b[39m\u001b[38;5;241m==\u001b[39m\u001b[38;5;241m0\u001b[39m\n",
      "\u001b[0;31mIndexError\u001b[0m: list index out of range"
     ]
    }
   ],
   "source": [
    "numbers[4]%2==0"
   ]
  },
  {
   "cell_type": "code",
   "execution_count": 99,
   "id": "a284c37f",
   "metadata": {},
   "outputs": [
    {
     "data": {
      "text/plain": [
       "range(0, 4)"
      ]
     },
     "execution_count": 99,
     "metadata": {},
     "output_type": "execute_result"
    }
   ],
   "source": [
    "range(len(numbers))"
   ]
  },
  {
   "cell_type": "code",
   "execution_count": 178,
   "id": "0c73e92c",
   "metadata": {},
   "outputs": [
    {
     "data": {
      "text/plain": [
       "[1, 4, 5, 5, 7, 8, 71, 87, 89]"
      ]
     },
     "execution_count": 178,
     "metadata": {},
     "output_type": "execute_result"
    }
   ],
   "source": [
    "# code for quicksort\n",
    "def helper(A,start,end):\n",
    "    # base case: subproblem of size 0 or 1 \n",
    "    if start>=end:\n",
    "        return\n",
    "\n",
    "    # recursive case: subproblem of atleast size 2, divide the subarray into 2 halves and delegate sorting \n",
    "    #to two other ppl hired under you\n",
    "    #two make the 2 halves, partition array around a random value\n",
    "    # Pick a random pivot\n",
    "    import random\n",
    "    pindex = random.randint(start,end)\n",
    "    #move it to extreme left\n",
    "    A[pindex], A[start] = A[start],A[pindex]\n",
    "    \n",
    "    orange=start\n",
    "    for green in range(start+1, end+1):\n",
    "        if A[green] < A[start]:\n",
    "            orange += 1 #to expand the orange segment\n",
    "            A[orange], A[green] = A[green], A[orange]\n",
    "            \n",
    "    # Now move the pivot at the boundary of orange and green i.e at its right place\n",
    "    A[start], A[orange] = A[orange], A[start]\n",
    "    \n",
    "    #Now pivot is it orange place, now split the array into 2 halves except pivot as its at its right position\n",
    "    helper(A, start, orange-1)\n",
    "    helper(A, orange+1, end)\n",
    "\n",
    "    \n",
    "def quickSort(A):\n",
    "    helper(A, 0, len(A)-1)\n",
    "    return(A)\n",
    "\n",
    "A = [4,7,8,89,1,5,87,5,71]\n",
    "quickSort(A)"
   ]
  },
  {
   "cell_type": "code",
   "execution_count": 63,
   "id": "322a4f26",
   "metadata": {},
   "outputs": [],
   "source": [
    "even = []\n",
    "odd = []\n",
    "if 1 % 2 == 0:\n",
    "    even.append(1)\n",
    "else:\n",
    "    odd.append(1)"
   ]
  },
  {
   "cell_type": "code",
   "execution_count": 87,
   "id": "5e4d8af7",
   "metadata": {},
   "outputs": [
    {
     "data": {
      "text/plain": [
       "[1, 2, 4, 1, 1, 3]"
      ]
     },
     "execution_count": 87,
     "metadata": {},
     "output_type": "execute_result"
    }
   ],
   "source": [
    "even"
   ]
  },
  {
   "cell_type": "code",
   "execution_count": 88,
   "id": "370fe47b",
   "metadata": {},
   "outputs": [
    {
     "data": {
      "text/plain": [
       "[1, 1, 3]"
      ]
     },
     "execution_count": 88,
     "metadata": {},
     "output_type": "execute_result"
    }
   ],
   "source": [
    "odd"
   ]
  },
  {
   "cell_type": "code",
   "execution_count": 89,
   "id": "f2b65c7d",
   "metadata": {},
   "outputs": [],
   "source": [
    "even.extend(odd)"
   ]
  },
  {
   "cell_type": "code",
   "execution_count": 90,
   "id": "0c657073",
   "metadata": {},
   "outputs": [
    {
     "data": {
      "text/plain": [
       "[1, 2, 4, 1, 1, 3, 1, 1, 3]"
      ]
     },
     "execution_count": 90,
     "metadata": {},
     "output_type": "execute_result"
    }
   ],
   "source": [
    "even"
   ]
  },
  {
   "cell_type": "code",
   "execution_count": 72,
   "id": "b5a800ec",
   "metadata": {},
   "outputs": [
    {
     "ename": "NameError",
     "evalue": "name 'final_list' is not defined",
     "output_type": "error",
     "traceback": [
      "\u001b[0;31m---------------------------------------------------------------------------\u001b[0m",
      "\u001b[0;31mNameError\u001b[0m                                 Traceback (most recent call last)",
      "Cell \u001b[0;32mIn [72], line 1\u001b[0m\n\u001b[0;32m----> 1\u001b[0m \u001b[43mfinal_list\u001b[49m\n",
      "\u001b[0;31mNameError\u001b[0m: name 'final_list' is not defined"
     ]
    }
   ],
   "source": [
    "final_list\n"
   ]
  },
  {
   "cell_type": "code",
   "execution_count": 119,
   "id": "1af855d3",
   "metadata": {},
   "outputs": [
    {
     "data": {
      "text/plain": [
       "[2, 4, 1, 3]"
      ]
     },
     "execution_count": 119,
     "metadata": {},
     "output_type": "execute_result"
    }
   ],
   "source": [
    "even = [2,4]\n",
    "odd=[1,3]\n",
    "even +odd"
   ]
  },
  {
   "cell_type": "code",
   "execution_count": 124,
   "id": "f2f8e5f0",
   "metadata": {},
   "outputs": [
    {
     "data": {
      "text/plain": [
       "1"
      ]
     },
     "execution_count": 124,
     "metadata": {},
     "output_type": "execute_result"
    }
   ],
   "source": [
    "5%2"
   ]
  },
  {
   "cell_type": "code",
   "execution_count": 140,
   "id": "0688bb5f",
   "metadata": {},
   "outputs": [
    {
     "ename": "SyntaxError",
     "evalue": "'return' outside function (1565530283.py, line 11)",
     "output_type": "error",
     "traceback": [
      "\u001b[0;36m  Cell \u001b[0;32mIn [140], line 11\u001b[0;36m\u001b[0m\n\u001b[0;31m    return(result)\u001b[0m\n\u001b[0m    ^\u001b[0m\n\u001b[0;31mSyntaxError\u001b[0m\u001b[0;31m:\u001b[0m 'return' outside function\n"
     ]
    }
   ],
   "source": [
    "from itertools import combinations\n",
    "\n",
    "n = 5\n",
    "k = 3\n",
    "\n",
    "output = combinations(list(range(1, n + 1)),k)\n",
    "result = []\n",
    "    \n",
    "for item in output:\n",
    "    result.append(list(item))\n",
    "    return(result)"
   ]
  },
  {
   "cell_type": "code",
   "execution_count": 130,
   "id": "42829395",
   "metadata": {},
   "outputs": [
    {
     "data": {
      "text/plain": [
       "<itertools.combinations at 0x111795770>"
      ]
     },
     "execution_count": 130,
     "metadata": {},
     "output_type": "execute_result"
    }
   ],
   "source": [
    "from itertools import combinations\n",
    "n = 5\n",
    "k = 3\n",
    "\n",
    "## size of combination is set to k or 3\n",
    "output = combinations(list(range(1, n + 1)),k)\n",
    "\n",
    "output"
   ]
  },
  {
   "cell_type": "code",
   "execution_count": 132,
   "id": "deeb8c48",
   "metadata": {},
   "outputs": [
    {
     "name": "stdout",
     "output_type": "stream",
     "text": [
      "(1, 2, 3)\n",
      "(1, 2, 4)\n",
      "(1, 2, 5)\n",
      "(1, 3, 4)\n",
      "(1, 3, 5)\n",
      "(1, 4, 5)\n",
      "(2, 3, 4)\n",
      "(2, 3, 5)\n",
      "(2, 4, 5)\n",
      "(3, 4, 5)\n"
     ]
    }
   ],
   "source": [
    "for item in output:\n",
    "    print(item)"
   ]
  },
  {
   "cell_type": "code",
   "execution_count": 134,
   "id": "2c8766ce",
   "metadata": {},
   "outputs": [
    {
     "data": {
      "text/plain": [
       "[1, 2, 3, 4, 5]"
      ]
     },
     "execution_count": 134,
     "metadata": {},
     "output_type": "execute_result"
    }
   ],
   "source": [
    "list(range(1, n + 1))"
   ]
  },
  {
   "cell_type": "code",
   "execution_count": 142,
   "id": "94db3a04",
   "metadata": {},
   "outputs": [],
   "source": [
    "result = []\n",
    "if k==0:\n",
    "    result.append([])\n",
    "else:\n",
    "    for i in combinations(list(range(1,n+1)),k):\n",
    "        result.append(list(i))\n",
    "        #return result\n"
   ]
  },
  {
   "cell_type": "code",
   "execution_count": 143,
   "id": "19dbd4fe",
   "metadata": {},
   "outputs": [
    {
     "data": {
      "text/plain": [
       "[[1, 2, 3],\n",
       " [1, 2, 4],\n",
       " [1, 2, 5],\n",
       " [1, 3, 4],\n",
       " [1, 3, 5],\n",
       " [1, 4, 5],\n",
       " [2, 3, 4],\n",
       " [2, 3, 5],\n",
       " [2, 4, 5],\n",
       " [3, 4, 5]]"
      ]
     },
     "execution_count": 143,
     "metadata": {},
     "output_type": "execute_result"
    }
   ],
   "source": [
    "result"
   ]
  },
  {
   "cell_type": "markdown",
   "id": "df79bbf5",
   "metadata": {},
   "source": [
    "## Notes\n",
    "\n",
    "1. \n",
    "mid =(start+end)/2  might lead to overflow as computing could be beyond the bounds of m+n \n",
    "\n",
    "\n",
    "mid = start + ((end-start)/2)"
   ]
  },
  {
   "cell_type": "markdown",
   "id": "2cc670b3",
   "metadata": {},
   "source": [
    "2. result.add for set and result.append for list"
   ]
  },
  {
   "cell_type": "code",
   "execution_count": null,
   "id": "8ed6e2a8",
   "metadata": {},
   "outputs": [],
   "source": []
  }
 ],
 "metadata": {
  "kernelspec": {
   "display_name": "Python 3 (ipykernel)",
   "language": "python",
   "name": "python3"
  },
  "language_info": {
   "codemirror_mode": {
    "name": "ipython",
    "version": 3
   },
   "file_extension": ".py",
   "mimetype": "text/x-python",
   "name": "python",
   "nbconvert_exporter": "python",
   "pygments_lexer": "ipython3",
   "version": "3.9.2"
  }
 },
 "nbformat": 4,
 "nbformat_minor": 5
}
