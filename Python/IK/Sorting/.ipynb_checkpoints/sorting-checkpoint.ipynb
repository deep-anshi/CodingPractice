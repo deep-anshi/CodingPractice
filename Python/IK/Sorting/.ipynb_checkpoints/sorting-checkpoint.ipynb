{
 "cells": [
  {
   "cell_type": "markdown",
   "id": "aa7b839a",
   "metadata": {},
   "source": [
    "# Sorting "
   ]
  },
  {
   "cell_type": "markdown",
   "id": "205572bd",
   "metadata": {},
   "source": [
    "## Selection Sort  (Also the Brute force algorithm in this casr)"
   ]
  },
  {
   "cell_type": "code",
   "execution_count": 24,
   "id": "dcb30bee",
   "metadata": {},
   "outputs": [],
   "source": [
    "def SelectionSort(nums):\n",
    "    for i in range(len(nums)):\n",
    "        minValue = nums[i]\n",
    "        minIndex = i\n",
    "        for m in range(i+1, len(nums)):\n",
    "            if minValue > nums[m]:\n",
    "                minValue = nums[m]\n",
    "                minIndex = m\n",
    "            # swap (A[i], A[minIndex])\n",
    "            nums[i], nums[minIndex] =  nums[minIndex], nums[i]\n",
    "    return nums "
   ]
  },
  {
   "cell_type": "code",
   "execution_count": 27,
   "id": "37a82486",
   "metadata": {},
   "outputs": [
    {
     "data": {
      "text/plain": [
       "[1, 4, 7, 8, 89, 5, 87, 5, 71]"
      ]
     },
     "execution_count": 27,
     "metadata": {},
     "output_type": "execute_result"
    }
   ],
   "source": [
    "A = [4,7,8,89,1,5,87,5,71]\n",
    "SelectionSort(A)"
   ]
  },
  {
   "cell_type": "markdown",
   "id": "921fb299",
   "metadata": {},
   "source": [
    "## Bubble Sort (Worst algo)"
   ]
  },
  {
   "cell_type": "code",
   "execution_count": 35,
   "id": "a25688ff",
   "metadata": {},
   "outputs": [],
   "source": [
    "def BubbleSort(nums):\n",
    "    for i in range(len(nums)):\n",
    "        # from n-1 to i+1 // make note its range(len(nums)-1,i,-1) and not range(len(num),i+1,-1)\n",
    "        for m in range(len(nums)-1,i,-1):\n",
    "            if nums[m] < nums[m-1]:\n",
    "                nums[m], nums[m-1] = nums[m-1], nums[m]\n",
    "    return nums\n",
    "        \n",
    "## Appendix   \n",
    "#for num in range(5):\n",
    " #   print(num)\n",
    "    \n",
    "#for num in range(5,0,-1):\n",
    " #   print(num)\n",
    "    \n",
    "#for num in range(5-1,0,-1):\n",
    " #   print(num)"
   ]
  },
  {
   "cell_type": "code",
   "execution_count": 36,
   "id": "887ab486",
   "metadata": {},
   "outputs": [
    {
     "data": {
      "text/plain": [
       "[1, 4, 5, 5, 7, 8, 71, 87, 89]"
      ]
     },
     "execution_count": 36,
     "metadata": {},
     "output_type": "execute_result"
    }
   ],
   "source": [
    "A = [4,7,8,89,1,5,87,5,71]\n",
    "BubbleSort(A)"
   ]
  },
  {
   "cell_type": "code",
   "execution_count": 31,
   "id": "b0052113",
   "metadata": {},
   "outputs": [
    {
     "name": "stdout",
     "output_type": "stream",
     "text": [
      "0\n",
      "1\n",
      "2\n",
      "3\n",
      "4\n"
     ]
    }
   ],
   "source": []
  },
  {
   "cell_type": "code",
   "execution_count": 32,
   "id": "9eb7e532",
   "metadata": {},
   "outputs": [
    {
     "name": "stdout",
     "output_type": "stream",
     "text": [
      "5\n",
      "4\n",
      "3\n",
      "2\n",
      "1\n"
     ]
    }
   ],
   "source": [
    "for num in range(5,0,-1):\n",
    "    print(num)"
   ]
  },
  {
   "cell_type": "code",
   "execution_count": 33,
   "id": "cba33b42",
   "metadata": {},
   "outputs": [
    {
     "name": "stdout",
     "output_type": "stream",
     "text": [
      "4\n",
      "3\n",
      "2\n",
      "1\n"
     ]
    }
   ],
   "source": []
  },
  {
   "cell_type": "code",
   "execution_count": null,
   "id": "8f4ae748",
   "metadata": {},
   "outputs": [],
   "source": [
    "|"
   ]
  }
 ],
 "metadata": {
  "kernelspec": {
   "display_name": "Python 3 (ipykernel)",
   "language": "python",
   "name": "python3"
  },
  "language_info": {
   "codemirror_mode": {
    "name": "ipython",
    "version": 3
   },
   "file_extension": ".py",
   "mimetype": "text/x-python",
   "name": "python",
   "nbconvert_exporter": "python",
   "pygments_lexer": "ipython3",
   "version": "3.9.2"
  }
 },
 "nbformat": 4,
 "nbformat_minor": 5
}
