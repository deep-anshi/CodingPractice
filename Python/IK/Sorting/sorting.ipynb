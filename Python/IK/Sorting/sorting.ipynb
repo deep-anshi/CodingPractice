{
 "cells": [
  {
   "cell_type": "markdown",
   "id": "09bdef85",
   "metadata": {},
   "source": [
    "# Sorting "
   ]
  },
  {
   "cell_type": "markdown",
   "id": "0fb04059",
   "metadata": {},
   "source": [
    "## Selection Sort  (Also the Brute force algorithm in this casr)"
   ]
  },
  {
   "cell_type": "code",
   "execution_count": 24,
   "id": "cd0bf07f",
   "metadata": {},
   "outputs": [],
   "source": [
    "def SelectionSort(nums):\n",
    "    for i in range(len(nums)):\n",
    "        minValue = nums[i]\n",
    "        minIndex = i\n",
    "        for m in range(i+1, len(nums)):\n",
    "            if minValue > nums[m]:\n",
    "                minValue = nums[m]\n",
    "                minIndex = m\n",
    "            # swap (A[i], A[minIndex])\n",
    "            nums[i], nums[minIndex] =  nums[minIndex], nums[i]\n",
    "    return nums "
   ]
  },
  {
   "cell_type": "code",
   "execution_count": 27,
   "id": "f02f65d3",
   "metadata": {},
   "outputs": [
    {
     "data": {
      "text/plain": [
       "[1, 4, 7, 8, 89, 5, 87, 5, 71]"
      ]
     },
     "execution_count": 27,
     "metadata": {},
     "output_type": "execute_result"
    }
   ],
   "source": [
    "A = [4,7,8,89,1,5,87,5,71]\n",
    "SelectionSort(A)"
   ]
  },
  {
   "cell_type": "markdown",
   "id": "3b2f6644",
   "metadata": {},
   "source": [
    "## Bubble Sort (Worst algo)"
   ]
  },
  {
   "cell_type": "code",
   "execution_count": 35,
   "id": "0ae66841",
   "metadata": {},
   "outputs": [],
   "source": [
    "def BubbleSort(nums):\n",
    "    for i in range(len(nums)):\n",
    "        # from n-1 to i+1 // make note its range(len(nums)-1,i,-1) and not range(len(num),i+1,-1)\n",
    "        for m in range(len(nums)-1,i,-1):\n",
    "            if nums[m] < nums[m-1]:\n",
    "                nums[m], nums[m-1] = nums[m-1], nums[m]\n",
    "    return nums\n",
    "        \n",
    "## Appendix   \n",
    "#for num in range(5):\n",
    " #   print(num)\n",
    "    \n",
    "#for num in range(5,0,-1):\n",
    " #   print(num)\n",
    "    \n",
    "#for num in range(5-1,0,-1):\n",
    " #   print(num)"
   ]
  },
  {
   "cell_type": "code",
   "execution_count": 125,
   "id": "989ade76",
   "metadata": {},
   "outputs": [
    {
     "name": "stdout",
     "output_type": "stream",
     "text": [
      "5\n",
      "4\n",
      "3\n",
      "2\n",
      "1\n"
     ]
    }
   ],
   "source": [
    "for num in range(5,0,-1):\n",
    "    print(num)"
   ]
  },
  {
   "cell_type": "code",
   "execution_count": 127,
   "id": "5c97dec3",
   "metadata": {},
   "outputs": [
    {
     "name": "stdout",
     "output_type": "stream",
     "text": [
      "5\n",
      "4\n",
      "3\n",
      "2\n",
      "1\n",
      "0\n"
     ]
    }
   ],
   "source": [
    "for num in range(5,-1,-1):\n",
    "    print(num)"
   ]
  },
  {
   "cell_type": "code",
   "execution_count": 36,
   "id": "a7c8b817",
   "metadata": {},
   "outputs": [
    {
     "data": {
      "text/plain": [
       "[1, 4, 5, 5, 7, 8, 71, 87, 89]"
      ]
     },
     "execution_count": 36,
     "metadata": {},
     "output_type": "execute_result"
    }
   ],
   "source": [
    "A = [4,7,8,89,1,5,87,5,71]\n",
    "BubbleSort(A)"
   ]
  },
  {
   "cell_type": "markdown",
   "id": "7179185e",
   "metadata": {},
   "source": [
    "## Insertion Sort"
   ]
  },
  {
   "cell_type": "code",
   "execution_count": 37,
   "id": "a0dbed19",
   "metadata": {},
   "outputs": [],
   "source": [
    "def InsertionSort(nums):\n",
    "    for i in range(len(nums)):\n",
    "        temp = nums[i]\n",
    "        j = i-1\n",
    "        while j>= 0 and nums[j]>temp:\n",
    "            nums[j+1] = nums[j]\n",
    "            j -= 1\n",
    "        nums[j+1] = temp  \n",
    "    return nums"
   ]
  },
  {
   "cell_type": "code",
   "execution_count": 39,
   "id": "1d421944",
   "metadata": {},
   "outputs": [
    {
     "data": {
      "text/plain": [
       "[1, 4, 5, 5, 7, 8, 71, 87, 89]"
      ]
     },
     "execution_count": 39,
     "metadata": {},
     "output_type": "execute_result"
    }
   ],
   "source": [
    "A = [4,7,8,89,1,5,87,5,71]\n",
    "InsertionSort(A)"
   ]
  },
  {
   "cell_type": "code",
   "execution_count": 120,
   "id": "319eaa5f",
   "metadata": {},
   "outputs": [],
   "source": [
    "def segregate_evens_and_odds(numbers):\n",
    "    \"\"\"\n",
    "    Args:\n",
    "     numbers(list_int32)\n",
    "    Returns:\n",
    "     list_int32\n",
    "    \"\"\"\n",
    "    # Write your code here.\n",
    "    even = []\n",
    "    odd = []\n",
    "    for i in range(len(numbers)):\n",
    "        if numbers[i] % 2 == 0:\n",
    "            even.append(numbers[i])\n",
    "        else:\n",
    "            odd.append(numbers[i])\n",
    "    return(even+odd)\n",
    "\n",
    "\n"
   ]
  },
  {
   "cell_type": "code",
   "execution_count": 121,
   "id": "d13de2c5",
   "metadata": {},
   "outputs": [
    {
     "data": {
      "text/plain": [
       "[2, 4, 1, 3]"
      ]
     },
     "execution_count": 121,
     "metadata": {},
     "output_type": "execute_result"
    }
   ],
   "source": [
    "numbers= [1, 2, 3, 4]\n",
    "segregate_evens_and_odds(numbers)"
   ]
  },
  {
   "cell_type": "code",
   "execution_count": 103,
   "id": "2b9f6f44",
   "metadata": {},
   "outputs": [
    {
     "name": "stdout",
     "output_type": "stream",
     "text": [
      "[1]\n",
      "None\n",
      "[1, 2]\n",
      "None\n",
      "[1, 3]\n",
      "None\n",
      "[1, 2, 1, 1, 3, 4]\n",
      "None\n"
     ]
    }
   ],
   "source": [
    "numbers= [1, 2, 3, 4]\n",
    "segregate_evens_and_odds(numbers)\n"
   ]
  },
  {
   "cell_type": "code",
   "execution_count": 97,
   "id": "58985047",
   "metadata": {},
   "outputs": [
    {
     "ename": "IndexError",
     "evalue": "list index out of range",
     "output_type": "error",
     "traceback": [
      "\u001b[0;31m---------------------------------------------------------------------------\u001b[0m",
      "\u001b[0;31mIndexError\u001b[0m                                Traceback (most recent call last)",
      "Cell \u001b[0;32mIn [97], line 1\u001b[0m\n\u001b[0;32m----> 1\u001b[0m \u001b[43mnumbers\u001b[49m\u001b[43m[\u001b[49m\u001b[38;5;241;43m4\u001b[39;49m\u001b[43m]\u001b[49m\u001b[38;5;241m%\u001b[39m\u001b[38;5;241m2\u001b[39m\u001b[38;5;241m==\u001b[39m\u001b[38;5;241m0\u001b[39m\n",
      "\u001b[0;31mIndexError\u001b[0m: list index out of range"
     ]
    }
   ],
   "source": [
    "numbers[4]%2==0"
   ]
  },
  {
   "cell_type": "code",
   "execution_count": 99,
   "id": "a284c37f",
   "metadata": {},
   "outputs": [
    {
     "data": {
      "text/plain": [
       "range(0, 4)"
      ]
     },
     "execution_count": 99,
     "metadata": {},
     "output_type": "execute_result"
    }
   ],
   "source": [
    "range(len(numbers))"
   ]
  },
  {
   "cell_type": "code",
   "execution_count": 63,
   "id": "322a4f26",
   "metadata": {},
   "outputs": [],
   "source": [
    "even = []\n",
    "odd = []\n",
    "if 1 % 2 == 0:\n",
    "    even.append(1)\n",
    "else:\n",
    "    odd.append(1)"
   ]
  },
  {
   "cell_type": "code",
   "execution_count": 87,
   "id": "5e4d8af7",
   "metadata": {},
   "outputs": [
    {
     "data": {
      "text/plain": [
       "[1, 2, 4, 1, 1, 3]"
      ]
     },
     "execution_count": 87,
     "metadata": {},
     "output_type": "execute_result"
    }
   ],
   "source": [
    "even"
   ]
  },
  {
   "cell_type": "code",
   "execution_count": 88,
   "id": "370fe47b",
   "metadata": {},
   "outputs": [
    {
     "data": {
      "text/plain": [
       "[1, 1, 3]"
      ]
     },
     "execution_count": 88,
     "metadata": {},
     "output_type": "execute_result"
    }
   ],
   "source": [
    "odd"
   ]
  },
  {
   "cell_type": "code",
   "execution_count": 89,
   "id": "f2b65c7d",
   "metadata": {},
   "outputs": [],
   "source": [
    "even.extend(odd)"
   ]
  },
  {
   "cell_type": "code",
   "execution_count": 90,
   "id": "0c657073",
   "metadata": {},
   "outputs": [
    {
     "data": {
      "text/plain": [
       "[1, 2, 4, 1, 1, 3, 1, 1, 3]"
      ]
     },
     "execution_count": 90,
     "metadata": {},
     "output_type": "execute_result"
    }
   ],
   "source": [
    "even"
   ]
  },
  {
   "cell_type": "code",
   "execution_count": 72,
   "id": "b5a800ec",
   "metadata": {},
   "outputs": [
    {
     "ename": "NameError",
     "evalue": "name 'final_list' is not defined",
     "output_type": "error",
     "traceback": [
      "\u001b[0;31m---------------------------------------------------------------------------\u001b[0m",
      "\u001b[0;31mNameError\u001b[0m                                 Traceback (most recent call last)",
      "Cell \u001b[0;32mIn [72], line 1\u001b[0m\n\u001b[0;32m----> 1\u001b[0m \u001b[43mfinal_list\u001b[49m\n",
      "\u001b[0;31mNameError\u001b[0m: name 'final_list' is not defined"
     ]
    }
   ],
   "source": [
    "final_list\n"
   ]
  },
  {
   "cell_type": "code",
   "execution_count": 119,
   "id": "1af855d3",
   "metadata": {},
   "outputs": [
    {
     "data": {
      "text/plain": [
       "[2, 4, 1, 3]"
      ]
     },
     "execution_count": 119,
     "metadata": {},
     "output_type": "execute_result"
    }
   ],
   "source": [
    "even = [2,4]\n",
    "odd=[1,3]\n",
    "even +odd"
   ]
  },
  {
   "cell_type": "code",
   "execution_count": 124,
   "id": "f2f8e5f0",
   "metadata": {},
   "outputs": [
    {
     "data": {
      "text/plain": [
       "1"
      ]
     },
     "execution_count": 124,
     "metadata": {},
     "output_type": "execute_result"
    }
   ],
   "source": [
    "5%2"
   ]
  },
  {
   "cell_type": "code",
   "execution_count": 140,
   "id": "0688bb5f",
   "metadata": {},
   "outputs": [
    {
     "ename": "SyntaxError",
     "evalue": "'return' outside function (1565530283.py, line 11)",
     "output_type": "error",
     "traceback": [
      "\u001b[0;36m  Cell \u001b[0;32mIn [140], line 11\u001b[0;36m\u001b[0m\n\u001b[0;31m    return(result)\u001b[0m\n\u001b[0m    ^\u001b[0m\n\u001b[0;31mSyntaxError\u001b[0m\u001b[0;31m:\u001b[0m 'return' outside function\n"
     ]
    }
   ],
   "source": [
    "from itertools import combinations\n",
    "\n",
    "n = 5\n",
    "k = 3\n",
    "\n",
    "output = combinations(list(range(1, n + 1)),k)\n",
    "result = []\n",
    "    \n",
    "for item in output:\n",
    "    result.append(list(item))\n",
    "    return(result)"
   ]
  },
  {
   "cell_type": "code",
   "execution_count": 130,
   "id": "42829395",
   "metadata": {},
   "outputs": [
    {
     "data": {
      "text/plain": [
       "<itertools.combinations at 0x111795770>"
      ]
     },
     "execution_count": 130,
     "metadata": {},
     "output_type": "execute_result"
    }
   ],
   "source": [
    "from itertools import combinations\n",
    "n = 5\n",
    "k = 3\n",
    "\n",
    "## size of combination is set to k or 3\n",
    "output = combinations(list(range(1, n + 1)),k)\n",
    "\n",
    "output"
   ]
  },
  {
   "cell_type": "code",
   "execution_count": 132,
   "id": "deeb8c48",
   "metadata": {},
   "outputs": [
    {
     "name": "stdout",
     "output_type": "stream",
     "text": [
      "(1, 2, 3)\n",
      "(1, 2, 4)\n",
      "(1, 2, 5)\n",
      "(1, 3, 4)\n",
      "(1, 3, 5)\n",
      "(1, 4, 5)\n",
      "(2, 3, 4)\n",
      "(2, 3, 5)\n",
      "(2, 4, 5)\n",
      "(3, 4, 5)\n"
     ]
    }
   ],
   "source": [
    "for item in output:\n",
    "    print(item)"
   ]
  },
  {
   "cell_type": "code",
   "execution_count": 134,
   "id": "2c8766ce",
   "metadata": {},
   "outputs": [
    {
     "data": {
      "text/plain": [
       "[1, 2, 3, 4, 5]"
      ]
     },
     "execution_count": 134,
     "metadata": {},
     "output_type": "execute_result"
    }
   ],
   "source": [
    "list(range(1, n + 1))"
   ]
  },
  {
   "cell_type": "code",
   "execution_count": 142,
   "id": "94db3a04",
   "metadata": {},
   "outputs": [],
   "source": [
    "result = []\n",
    "if k==0:\n",
    "    result.append([])\n",
    "else:\n",
    "    for i in combinations(list(range(1,n+1)),k):\n",
    "        result.append(list(i))\n",
    "        #return result\n"
   ]
  },
  {
   "cell_type": "code",
   "execution_count": 143,
   "id": "19dbd4fe",
   "metadata": {},
   "outputs": [
    {
     "data": {
      "text/plain": [
       "[[1, 2, 3],\n",
       " [1, 2, 4],\n",
       " [1, 2, 5],\n",
       " [1, 3, 4],\n",
       " [1, 3, 5],\n",
       " [1, 4, 5],\n",
       " [2, 3, 4],\n",
       " [2, 3, 5],\n",
       " [2, 4, 5],\n",
       " [3, 4, 5]]"
      ]
     },
     "execution_count": 143,
     "metadata": {},
     "output_type": "execute_result"
    }
   ],
   "source": [
    "result"
   ]
  },
  {
   "cell_type": "code",
   "execution_count": null,
   "id": "26d42ab9",
   "metadata": {},
   "outputs": [],
   "source": []
  }
 ],
 "metadata": {
  "kernelspec": {
   "display_name": "Python 3 (ipykernel)",
   "language": "python",
   "name": "python3"
  },
  "language_info": {
   "codemirror_mode": {
    "name": "ipython",
    "version": 3
   },
   "file_extension": ".py",
   "mimetype": "text/x-python",
   "name": "python",
   "nbconvert_exporter": "python",
   "pygments_lexer": "ipython3",
   "version": "3.9.2"
  }
 },
 "nbformat": 4,
 "nbformat_minor": 5
}
