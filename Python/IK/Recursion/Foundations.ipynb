{
 "cells": [
  {
   "cell_type": "markdown",
   "id": "aa101f29",
   "metadata": {},
   "source": [
    "## Pseudocode for recursion\n",
    "\n",
    "Subordinate_recursive(n, subproblem, partial_solution_or_slate):\n",
    "    \n",
    "    if base_case_condition:\n",
    "        # slate/ partial solution is fully formed combinatorial object \n",
    "        # add slate to output\n",
    "        return \n",
    "    \n",
    "    # decrease the size of problem / or break down problem via decraese & concquer or divide & concquer\n",
    "    # increment slate\n",
    "    # recursively call subordinate_recursive()\n",
    "\n",
    "\n",
    "\n",
    "main(n):\n",
    "\n",
    "    # initialize slate \n",
    "    # initialize subproblem\n",
    "    \n",
    "    subordinate_recursive(n, subproblem, partial_solution_or_slate)"
   ]
  },
  {
   "cell_type": "markdown",
   "id": "9068f7b5",
   "metadata": {},
   "source": [
    "### raise money problem pseudocode \n",
    "\n",
    "You have been appointed as the growth manager for a non-profit company. Your\n",
    "job is to raise 100000$\n",
    "\n"
   ]
  },
  {
   "cell_type": "markdown",
   "id": "24c2d836",
   "metadata": {},
   "source": [
    "## Factorial problem  (Permuation, where repetition is not allowed)\n",
    "\n",
    "### Decrease and conquer\n",
    "T = O(n) from the lazy manager approach where everyone would be doing their small part and decraesing the subproblem havign the original structure.\n",
    "\n",
    "\n",
    "That is there were n workers involvee and each worker was doing some constant work of simple multiplication"
   ]
  },
  {
   "cell_type": "code",
   "execution_count": 41,
   "id": "e1657b63",
   "metadata": {},
   "outputs": [
    {
     "data": {
      "text/plain": [
       "6"
      ]
     },
     "execution_count": 41,
     "metadata": {},
     "output_type": "execute_result"
    }
   ],
   "source": [
    "def fact_recursive(n):\n",
    "    if n==0:\n",
    "        return 1\n",
    "    else:\n",
    "        return n*(fact(n-1))\n",
    "    \n",
    "fact_recursive(3)"
   ]
  },
  {
   "cell_type": "markdown",
   "id": "aee81cea",
   "metadata": {},
   "source": [
    "### Iterative strategy (insertion - top down / button up) \n",
    "\n",
    "T = O(n) there will be 1 pass from all n as everyone would be working on smaller problem and that is simple multiplication thus O(n)\n",
    "\n",
    "As this loop runs k times and we do a single basic operation for the body of for loop"
   ]
  },
  {
   "cell_type": "code",
   "execution_count": 40,
   "id": "71f970e3",
   "metadata": {},
   "outputs": [
    {
     "data": {
      "text/plain": [
       "6"
      ]
     },
     "execution_count": 40,
     "metadata": {},
     "output_type": "execute_result"
    }
   ],
   "source": [
    "def fact_iterative(n):\n",
    "    result = 1\n",
    "    for i in range(1,n+1):\n",
    "        result = result * i \n",
    "    return result\n",
    "\n",
    "fact_iterative(3)"
   ]
  },
  {
   "cell_type": "markdown",
   "id": "3622d4b5",
   "metadata": {},
   "source": [
    "## Power problem = n^k (Arrangement, where repitition is allowed)"
   ]
  },
  {
   "cell_type": "markdown",
   "id": "f4562cdf",
   "metadata": {},
   "source": [
    "### decrease and conquer\n",
    "\n",
    "T = O(n)"
   ]
  },
  {
   "cell_type": "code",
   "execution_count": 42,
   "id": "bc0ed08c",
   "metadata": {},
   "outputs": [
    {
     "data": {
      "text/plain": [
       "32"
      ]
     },
     "execution_count": 42,
     "metadata": {},
     "output_type": "execute_result"
    }
   ],
   "source": [
    "def recursive_raise_to_power(n,k):\n",
    "    if k == 0:\n",
    "        return 1\n",
    "    else:\n",
    "        return n * raise_to_power(n, k-1)\n",
    "\n",
    "recursive_raise_to_power(2,5)    "
   ]
  },
  {
   "cell_type": "markdown",
   "id": "3b867ecb",
   "metadata": {},
   "source": [
    "### iterative strategy\n",
    "\n",
    "T = O(n)"
   ]
  },
  {
   "cell_type": "code",
   "execution_count": 46,
   "id": "774976f8",
   "metadata": {},
   "outputs": [
    {
     "data": {
      "text/plain": [
       "32"
      ]
     },
     "execution_count": 46,
     "metadata": {},
     "output_type": "execute_result"
    }
   ],
   "source": [
    "def iterative__raise_to_power(n,k):\n",
    "    result = 1\n",
    "    for i in range(1,k+1):\n",
    "        result = result * n\n",
    "    return result\n",
    "\n",
    "iterative__raise_to_power(2,5)"
   ]
  },
  {
   "cell_type": "markdown",
   "id": "b95c6bfa",
   "metadata": {},
   "source": [
    "## n number of subset problem \n",
    "\n",
    "{a} = {},{a}\n",
    "{a,b} = {},{a},{b},{a,b}\n",
    "\n",
    "2^n i.e to choose to include or not include\n",
    "\n",
    "This problem can be reduced to thus arrangemnt problem or 2 raised to power n"
   ]
  },
  {
   "cell_type": "markdown",
   "id": "75ade194",
   "metadata": {},
   "source": [
    "### decrease and conquer (recursive)"
   ]
  },
  {
   "cell_type": "code",
   "execution_count": 50,
   "id": "2a74c170",
   "metadata": {},
   "outputs": [
    {
     "data": {
      "text/plain": [
       "4"
      ]
     },
     "execution_count": 50,
     "metadata": {},
     "output_type": "execute_result"
    }
   ],
   "source": [
    "def n_subsets(n):\n",
    "    if n == 0:\n",
    "        return 1\n",
    "    else:\n",
    "        return 2*n_subsets(n-1)\n",
    "    \n",
    "n_subsets(2)   \n",
    "\n",
    "# T = O(n)"
   ]
  },
  {
   "cell_type": "markdown",
   "id": "24497b00",
   "metadata": {},
   "source": [
    "### iterative"
   ]
  },
  {
   "cell_type": "code",
   "execution_count": 51,
   "id": "d3418748",
   "metadata": {},
   "outputs": [
    {
     "data": {
      "text/plain": [
       "4"
      ]
     },
     "execution_count": 51,
     "metadata": {},
     "output_type": "execute_result"
    }
   ],
   "source": [
    "def n_subsets(n):\n",
    "    result = 1\n",
    "    for i in range(1,n+1):\n",
    "        result = 2 * result \n",
    "    return result\n",
    "\n",
    "n_subsets(2)\n",
    "\n",
    "# T = O(n)"
   ]
  },
  {
   "cell_type": "markdown",
   "id": "944fcd56",
   "metadata": {},
   "source": [
    "### divide and conquer (recursive)\n",
    "\n",
    "But here the time complexity would be 2^n\n",
    "\n",
    "As at level 0, 1 job, at level 1, it would be divided among 2 workers, at level 2, 4 and so on \n",
    "\n",
    "so at level n, it would be divided among 2^n workers\n",
    "\n",
    "And each worker is doing constant amount of work - delegate worker, and take answers from sobordinates and add on \n",
    "\n",
    "thus T = 2^0 + 2^1 + . . . 2^n = ( 2^(n+1) ) - 1 = O(n)"
   ]
  },
  {
   "cell_type": "code",
   "execution_count": 54,
   "id": "37ddb5f1",
   "metadata": {},
   "outputs": [
    {
     "data": {
      "text/plain": [
       "4"
      ]
     },
     "execution_count": 54,
     "metadata": {},
     "output_type": "execute_result"
    }
   ],
   "source": [
    "def n_subsets(n):\n",
    "    if n == 0:\n",
    "        return 1\n",
    "    else:\n",
    "        return n_subsets(n-1) + n_subsets(n-1)\n",
    "    \n",
    "n_subsets(2)   \n"
   ]
  },
  {
   "cell_type": "markdown",
   "id": "e3bb0f9e",
   "metadata": {},
   "source": [
    "### Another way to do decrease adn conquer\n",
    "which brings down time complexity to log(n)\n",
    "\n",
    "instaed of doing 2^10 --> 2^9 -->  . .. 2^0, we can do\n",
    "\n",
    "2^10 --> 2^5(or 2.2^4) --> 2*(2^2)^2 -->  (2^1)^2  --> 2*(2^0)^2\n",
    "\n",
    "T(n) = T(n/2) + 1\n",
    "\n",
    "     = T(n/4) + 1 + 1\n",
    "     \n",
    "     = T(n/8) + 1 + 1 + 1\n",
    "     \n",
    "     = T(n/2^1) + i\n",
    "     \n",
    "     = log2(n) + 1 => O(logn) \n",
    "        \n",
    "        "
   ]
  },
  {
   "cell_type": "markdown",
   "id": "63b85c38",
   "metadata": {},
   "source": [
    "## Fibonacci recursion "
   ]
  },
  {
   "cell_type": "code",
   "execution_count": 44,
   "id": "c1bcbb57",
   "metadata": {},
   "outputs": [
    {
     "data": {
      "text/plain": [
       "13"
      ]
     },
     "execution_count": 44,
     "metadata": {},
     "output_type": "execute_result"
    }
   ],
   "source": [
    "def fib(n):\n",
    "    if n==0 or n==1:\n",
    "        return n\n",
    "    else:\n",
    "        return fib(n-1) + fib(n-2)\n",
    "    \n",
    "fib(7)"
   ]
  },
  {
   "cell_type": "markdown",
   "id": "7fac0ecf",
   "metadata": {},
   "source": [
    "This can also be written as - "
   ]
  },
  {
   "cell_type": "code",
   "execution_count": 45,
   "id": "e8d58d46",
   "metadata": {},
   "outputs": [
    {
     "data": {
      "text/plain": [
       "13"
      ]
     },
     "execution_count": 45,
     "metadata": {},
     "output_type": "execute_result"
    }
   ],
   "source": [
    "def fib(n):\n",
    "    if n==0 or n==1:\n",
    "        return n\n",
    "    #else:\n",
    "    return fib(n-1) + fib(n-2)\n",
    "    \n",
    "fib(7)"
   ]
  },
  {
   "cell_type": "markdown",
   "id": "653f29e0",
   "metadata": {},
   "source": [
    "Recursion Tree\n",
    "(Divide & conquer)\n",
    "\n",
    "T(n) -> recusrsion tree / triangle but left side will be the lonest side with n levels and right side will be the shortest i.e n/2. And so at left side, each level there will be 2^0, 2^1, 2^2, 2^3 .. 2^n -> [2^(n+1)] -1 => O(2^n) and for the right side, it will be [2^(n/2 + 1)] -1 ~ (1.4)^n => sigma(1.4^ n) i.e at the very least (RHS) it will still be exponential"
   ]
  },
  {
   "cell_type": "markdown",
   "id": "e028d4a0",
   "metadata": {},
   "source": [
    "**Memoization -** caching or storing sub problem values as you go along the problem to save the time by not calculating those subproblems again.\n",
    "\n",
    "**Dynamic Programming -**\n",
    "\n",
    "This way fibonacci can be caluclated in linear time, just by a single scan through this array doing only single addition operation, by implementing bottom up can bring down the complexity of code from exponential to linear time. \n",
    "\n",
    "This prcoess of bottom up approach or rewriting recursive code by taking recursive relation but implementing iterative bottom up way is called dynamic programming. We are using extra space but that helps us bringing down the time. \n",
    "\n",
    "This can further be imporoved from both space and time persepective using the same recursion technique(fibonnaci - general additive series)"
   ]
  },
  {
   "cell_type": "code",
   "execution_count": 46,
   "id": "e10a4ecb",
   "metadata": {},
   "outputs": [
    {
     "data": {
      "text/plain": [
       "13"
      ]
     },
     "execution_count": 46,
     "metadata": {},
     "output_type": "execute_result"
    }
   ],
   "source": [
    "def addSeq(n, b1, b2):\n",
    "    ## HERE PLEASE PAY SPECIAL ATTENTION TO THE BASE CASES\n",
    "    if n==0:  \n",
    "        return b1\n",
    "    if n==1:\n",
    "        return b2\n",
    "    else:\n",
    "        return addSeq(n-1, b2, b1+b2)\n",
    "\n",
    "def fib2(n):\n",
    "    return addSeq(n, 0, 1)\n",
    "\n",
    "fib2(7)"
   ]
  },
  {
   "cell_type": "markdown",
   "id": "a4d9a47d",
   "metadata": {},
   "source": [
    "This above method is decrases and conquer --> i.e chipping away the problem little by little -> n to n-1 and so on\n",
    "\n",
    "Here we just changed recursive implementation so that it can be run in linear time\n",
    "\n",
    "The above code will run in time of O(n). "
   ]
  },
  {
   "cell_type": "markdown",
   "id": "796af363",
   "metadata": {},
   "source": [
    "## Combinations (repititions not allowed; order does not matter)\n",
    "\n",
    "### Can also be called as problem of subsets eg - {1,2,3} "
   ]
  },
  {
   "cell_type": "markdown",
   "id": "d0ec1b3b",
   "metadata": {},
   "source": [
    "nCn = {_, _, _} including all elements and there is only 1 case = 1\n",
    "\n",
    "also nC0 = {} an empty set = 1\n",
    "\n",
    "can be proven nC0 == nC1 and so on .. \n",
    "\n",
    "\n",
    "\n",
    "nCk = (n-1)C(k-1) + (n-1)Ck\n",
    "\n",
    "And this pattern can be seen in pascal triangle where 5c3 = 4c2+4c3\n",
    "\n",
    "\n",
    "pascal triangle\n",
    "\n",
    "level 1 -> 1, level 2, ->2 , as level increases elements increases in each row by 2^i\n",
    "\n",
    "\n",
    "\n",
    "we can thus say at last/n level, we'll have 2^n and this in other way(logically) could also be nC0 + nC1 + nC2 + . .+nCn (how logically, read below!)\n",
    "\n",
    "\n",
    "how many committees/subsets can be formed of any size out of given set of elements or how many subsets are there for set of size n?\n",
    "\n",
    "nC0 + nC1 + nC2 + . .+nCn => subset of size 0 + subsets of size 1 +. . .+ subsets of size n => can also be written\n",
    "\n",
    "\n",
    "and we remember from previous problem (permuation?)that a subsets of set n is 2^n"
   ]
  },
  {
   "cell_type": "code",
   "execution_count": 25,
   "id": "b18b9afb",
   "metadata": {},
   "outputs": [
    {
     "data": {
      "text/plain": [
       "6"
      ]
     },
     "execution_count": 25,
     "metadata": {},
     "output_type": "execute_result"
    }
   ],
   "source": [
    "def C(n, k):\n",
    "    if n<=1 or k == 0 or k == n:\n",
    "        return 1\n",
    "    return C(n-1,k-1) + C(n-1,k)\n",
    "\n",
    "C(4, 2)"
   ]
  },
  {
   "cell_type": "markdown",
   "id": "cc0e38e3",
   "metadata": {},
   "source": [
    "#### Given two integers n and k, find all the possible unique combinations of k numbers in range 1 to n. "
   ]
  },
  {
   "cell_type": "code",
   "execution_count": 42,
   "id": "caaf3088",
   "metadata": {},
   "outputs": [
    {
     "data": {
      "text/plain": [
       "[[1, 2],\n",
       " [1, 3],\n",
       " [1, 4],\n",
       " [1, 5],\n",
       " [2, 3],\n",
       " [2, 4],\n",
       " [2, 5],\n",
       " [3, 4],\n",
       " [3, 5],\n",
       " [4, 5]]"
      ]
     },
     "execution_count": 42,
     "metadata": {},
     "output_type": "execute_result"
    }
   ],
   "source": [
    "def find_combinations(n, k):\n",
    "    \"\"\"\n",
    "    Args:\n",
    "     n(int32)\n",
    "     k(int32)\n",
    "    Returns:\n",
    "     list_list_int32\n",
    "    \"\"\"\n",
    "    from itertools import combinations  \n",
    "    result = []\n",
    "    output = combinations(list(range(1, n + 1)),k) # k unique combinations of numbers ranging from 1 to n\n",
    "    \n",
    "    for i in output:\n",
    "        result.append(list(i))\n",
    "        \n",
    "    return result\n",
    "\n",
    "find_combinations(5, 2)"
   ]
  },
  {
   "cell_type": "code",
   "execution_count": 40,
   "id": "a4810586",
   "metadata": {},
   "outputs": [],
   "source": [
    "def find_combinations(n, k):\n",
    "    \"\"\"\n",
    "    Args:\n",
    "     n(int32)\n",
    "     k(int32)\n",
    "    Returns:\n",
    "     list_list_int32\n",
    "    \"\"\"\n",
    "\n",
    "# Write your code here.\n",
    "    from itertools import combinations  \n",
    "        \n",
    "    return list(combinations(list(range(1, n + 1)),k))\n",
    "\n",
    "find_combinations(5, 2)\n"
   ]
  },
  {
   "cell_type": "markdown",
   "id": "801c1133",
   "metadata": {},
   "source": [
    "##  Combinatorial emuneration "
   ]
  },
  {
   "cell_type": "markdown",
   "id": "8f03c6f2",
   "metadata": {},
   "source": [
    "Both permuation and combinations are combinatoral objects. Exhausitng all possible combinations/permuations. \n",
    "\n",
    "They will be exponential in T(n)"
   ]
  },
  {
   "cell_type": "markdown",
   "id": "3d604539",
   "metadata": {},
   "source": [
    "Tree level \n",
    "\n",
    "Decraese and conquer (delegation of responsibility, handing over n-1 problems) and print them all out. You can \n",
    "\n",
    "T(n) = n.(2^n)\n",
    "as 2^n different strings\n",
    "and n as it takes some time to print a string and it will be printed n times\n",
    "\n"
   ]
  },
  {
   "cell_type": "code",
   "execution_count": null,
   "id": "c7f50cfb",
   "metadata": {},
   "outputs": [],
   "source": []
  },
  {
   "cell_type": "code",
   "execution_count": null,
   "id": "b4ad85fb",
   "metadata": {},
   "outputs": [],
   "source": []
  },
  {
   "cell_type": "code",
   "execution_count": null,
   "id": "a834ab29",
   "metadata": {},
   "outputs": [],
   "source": []
  },
  {
   "cell_type": "code",
   "execution_count": null,
   "id": "d849320d",
   "metadata": {},
   "outputs": [],
   "source": [
    "# print all binary strings of length n i.e n=3 => 011,000,110,010, . . etc\n",
    "def binary_strings(n):\n",
    "    "
   ]
  },
  {
   "cell_type": "code",
   "execution_count": null,
   "id": "667f3d99",
   "metadata": {},
   "outputs": [],
   "source": []
  },
  {
   "cell_type": "code",
   "execution_count": null,
   "id": "c28d62f9",
   "metadata": {},
   "outputs": [],
   "source": []
  },
  {
   "cell_type": "code",
   "execution_count": null,
   "id": "719eeed6",
   "metadata": {},
   "outputs": [],
   "source": []
  },
  {
   "cell_type": "code",
   "execution_count": null,
   "id": "f0003773",
   "metadata": {},
   "outputs": [],
   "source": []
  },
  {
   "cell_type": "code",
   "execution_count": null,
   "id": "fa64a847",
   "metadata": {},
   "outputs": [],
   "source": []
  },
  {
   "cell_type": "code",
   "execution_count": 50,
   "id": "03207022",
   "metadata": {},
   "outputs": [],
   "source": [
    "from itertools import permutations\n",
    "def get_permutations(arr):\n",
    "    \"\"\"\n",
    "    Args:\n",
    "     arr(list_int32)\n",
    "    Returns:\n",
    "     list_list_int32\n",
    "    \"\"\"\n",
    "    # Write your code here.\n",
    "    result=[]\n",
    "    for i in permutations(arr):\n",
    "       # print(\"ivalue\",i,\"permutations\",permutations(arr))\n",
    "        result.append(list(i))\n",
    "    \n",
    "    return result"
   ]
  },
  {
   "cell_type": "code",
   "execution_count": 51,
   "id": "df3ac379",
   "metadata": {},
   "outputs": [
    {
     "data": {
      "text/plain": [
       "[[1, 2, 3], [1, 3, 2], [2, 1, 3], [2, 3, 1], [3, 1, 2], [3, 2, 1]]"
      ]
     },
     "execution_count": 51,
     "metadata": {},
     "output_type": "execute_result"
    }
   ],
   "source": [
    "get_permutations([1, 2, 3])"
   ]
  },
  {
   "cell_type": "code",
   "execution_count": 59,
   "id": "9bebeb57",
   "metadata": {},
   "outputs": [],
   "source": [
    "result=[]\n",
    "arr = [1,2,3]\n",
    "for i in permutations(arr):\n",
    "       # print(i)\n",
    "        \n",
    "        result.append(i)"
   ]
  },
  {
   "cell_type": "code",
   "execution_count": 60,
   "id": "fd9703b7",
   "metadata": {},
   "outputs": [
    {
     "data": {
      "text/plain": [
       "[(1, 2, 3), (1, 3, 2), (2, 1, 3), (2, 3, 1), (3, 1, 2), (3, 2, 1)]"
      ]
     },
     "execution_count": 60,
     "metadata": {},
     "output_type": "execute_result"
    }
   ],
   "source": [
    "result"
   ]
  },
  {
   "cell_type": "code",
   "execution_count": null,
   "id": "79df02cd",
   "metadata": {},
   "outputs": [],
   "source": []
  }
 ],
 "metadata": {
  "kernelspec": {
   "display_name": "Python 3 (ipykernel)",
   "language": "python",
   "name": "python3"
  },
  "language_info": {
   "codemirror_mode": {
    "name": "ipython",
    "version": 3
   },
   "file_extension": ".py",
   "mimetype": "text/x-python",
   "name": "python",
   "nbconvert_exporter": "python",
   "pygments_lexer": "ipython3",
   "version": "3.9.2"
  }
 },
 "nbformat": 4,
 "nbformat_minor": 5
}
