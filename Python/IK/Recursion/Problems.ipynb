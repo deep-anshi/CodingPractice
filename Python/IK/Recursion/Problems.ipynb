{
 "cells": [
  {
   "cell_type": "markdown",
   "id": "8c1019c7",
   "metadata": {},
   "source": [
    "# Recursion problem"
   ]
  },
  {
   "cell_type": "markdown",
   "id": "6f0c674d",
   "metadata": {},
   "source": [
    "## Fibonacci recursion"
   ]
  },
  {
   "cell_type": "code",
   "execution_count": 2,
   "id": "ea7859ce",
   "metadata": {},
   "outputs": [
    {
     "data": {
      "text/plain": [
       "13"
      ]
     },
     "execution_count": 2,
     "metadata": {},
     "output_type": "execute_result"
    }
   ],
   "source": [
    "def fib(n):\n",
    "    if n==0 or n==1:\n",
    "        return n\n",
    "    else:\n",
    "        return fib(n-1) + fib(n-2)\n",
    "    \n",
    "fib(7)"
   ]
  },
  {
   "cell_type": "markdown",
   "id": "525fb1ab",
   "metadata": {},
   "source": [
    "This can also be written as - "
   ]
  },
  {
   "cell_type": "code",
   "execution_count": 3,
   "id": "1f3ea260",
   "metadata": {},
   "outputs": [
    {
     "data": {
      "text/plain": [
       "13"
      ]
     },
     "execution_count": 3,
     "metadata": {},
     "output_type": "execute_result"
    }
   ],
   "source": [
    "def fib(n):\n",
    "    if n==0 or n==1:\n",
    "        return n\n",
    "    #else:\n",
    "    return fib(n-1) + fib(n-2)\n",
    "    \n",
    "fib(7)"
   ]
  },
  {
   "cell_type": "markdown",
   "id": "b3826c26",
   "metadata": {},
   "source": [
    " Recursion Tree\n",
    "(Divide & conquer)\n",
    "\n",
    "T(n) -> recusrsion tree / triangle but left side will be the lonest side with n levels and right side will be the shortest i.e n/2. And so at left side, each level there will be 2^0, 2^1, 2^2, 2^3 .. 2^n -> [2^(n+1)] -1 => O(2^n) and for the right side, it will be [2^(n/2 + 1)] -1 ~ (1.4)^n => sigma(1.4^ n) i.e at the very least (RHS) it will still be exponential"
   ]
  },
  {
   "cell_type": "code",
   "execution_count": 4,
   "id": "4da93cef",
   "metadata": {},
   "outputs": [],
   "source": [
    "def addSeq(n, b1, b2):\n",
    "    ## HERE PLEASE PAY SPECIAL ATTENTION TO THE BASE CASES\n",
    "    if n==0:  \n",
    "        return b1\n",
    "    if n==1:\n",
    "        return b2\n",
    "    else:\n",
    "        return addSeq(n-1, b2, b1+b2)\n",
    "\n",
    "def fib2(n):\n",
    "    return addSeq(n, 0, 1)"
   ]
  },
  {
   "cell_type": "markdown",
   "id": "863fe0bd",
   "metadata": {},
   "source": [
    "This above method is decrases and conquer --> i.e chipping away the problem little by little -> n to n-1 and so on\n",
    "\n",
    "Here we just changed recursive implementation so that it can be run in linear time\n",
    "\n",
    "The above code will run in time of O(n). "
   ]
  },
  {
   "cell_type": "markdown",
   "id": "a20deb12",
   "metadata": {},
   "source": [
    "## Tower of Hanoi"
   ]
  },
  {
   "cell_type": "markdown",
   "id": "21e143e7",
   "metadata": {},
   "source": [
    "Strategy : Decrease anad concquer\n",
    "\n",
    "As a lazy manager I will focus on doing miniscule work and would assign rest to my subordinates\n",
    "\n",
    "General strategy used by everyone for moving n-1 disks from source to destination having an extra space called aux (source, destination, aux):\n",
    "\n",
    "if n ==1, move single disk from source to destination\n",
    "else :\n",
    "   move n-1 disks from src to aux\n",
    "   move a single disk from src to dst\n",
    "   move n-1 disks from aux to dst"
   ]
  },
  {
   "cell_type": "code",
   "execution_count": null,
   "id": "f98fdde9",
   "metadata": {},
   "outputs": [],
   "source": [
    "def tower_of_hanoi(n, src, dst, aux):\n",
    "    if n == 1:\n",
    "        print(\"move disk from\" + src + \"to\" + dst)\n",
    "    \n",
    "    else:\n",
    "        tower_of_hanoi(n-1, src, aux, dst)\n",
    "        print(\"move disk from\" + src + \"to\" + dst)\n",
    "        tower_of_hanoi(n-1, aux, dst, src)"
   ]
  },
  {
   "cell_type": "markdown",
   "id": "05d21e27",
   "metadata": {},
   "source": [
    "Base case T(1) = 1\n",
    "\n",
    "T(n) = 2(n-1) + 1\n",
    "\n",
    "we get perfect symmmnetric tree unlike fibonacci\n",
    "\n",
    "everyone is doing only mall amputn of work - everyone is moving bottom most disk of subproblem that theu were assigned i.e everyone is doing constant work\n",
    "\n",
    "thus total ampunt of work done by everyone is proportional to nodes of this tree\n",
    "\n",
    "there are level 0, 1,2 , . ..  las\n",
    "at level 0 -> 1 (2^0)subproblem/workers of size n\n",
    "at level 1 -> 2 (2^1)subproblem/workers of size each n-1\n",
    "at level 1 -> 4 (2^2)subproblem/workers of size each n-2\n",
    ".\n",
    ".\n",
    ".\n",
    "at level i -> each solving subproblem/workers size of n-i\n",
    ".\n",
    "at level n-1 -> (2^n) subproblem/workers of size each n-(n-1) or 1\n",
    "\n",
    "total amount of work done by everyone is proportional to nodes of this tree \n",
    "T(n)= 0+1+2+ 4+. .+ 2^(n-1) = 2^n -1\n",
    "\n",
    "\n",
    "** btw all workers are not working parallel just like fiboncci i.e we are going to pile up a chain of activation records in the beginning going all the way down to subproblem of size 1\n",
    "thus stack of n activation reords piled up on each other in this order \n",
    "\n",
    "its in depth first order that we r going to backtrack and execute we'll keep executring\n",
    "\n",
    "visiting tree in depth first order \n",
    "\n",
    "at an arbitary point of time, max # of activation records that can be piled up is n but then as we backtrack, # of records on call stack can vary from 1 to n"
   ]
  },
  {
   "cell_type": "code",
   "execution_count": 5,
   "id": "74f3be25",
   "metadata": {},
   "outputs": [],
   "source": [
    "third_dict = {\n",
    "    (1, 2): 3,\n",
    "    (2, 1): 3,\n",
    "    (1, 3): 2,\n",
    "    (3, 1): 2,\n",
    "    (2, 3): 1,\n",
    "    (3, 2): 1,\n",
    "}\n",
    "\n",
    "memos = dict()"
   ]
  },
  {
   "cell_type": "code",
   "execution_count": 6,
   "id": "5c2d6081",
   "metadata": {},
   "outputs": [
    {
     "data": {
      "text/plain": [
       "{(1, 2): 3, (2, 1): 3, (1, 3): 2, (3, 1): 2, (2, 3): 1, (3, 2): 1}"
      ]
     },
     "execution_count": 6,
     "metadata": {},
     "output_type": "execute_result"
    }
   ],
   "source": [
    "third_dict"
   ]
  },
  {
   "cell_type": "code",
   "execution_count": 7,
   "id": "9c28e36d",
   "metadata": {},
   "outputs": [
    {
     "data": {
      "text/plain": [
       "{}"
      ]
     },
     "execution_count": 7,
     "metadata": {},
     "output_type": "execute_result"
    }
   ],
   "source": [
    "memos"
   ]
  },
  {
   "cell_type": "code",
   "execution_count": null,
   "id": "1527a746",
   "metadata": {},
   "outputs": [],
   "source": [
    "def helper(n, src, dst):\n",
    "    if (n, src, dst) in memos:\n",
    "        return memos[(n, src, dst)]\n",
    "\n",
    "    if n == 0:\n",
    "        return [[]]\n",
    "\n",
    "    if n == 1:\n",
    "        return [[src, dst]]\n",
    "\n",
    "    aux = third_dict[(src, dst)]\n",
    "    res = helper(n - 1, src, aux)\n",
    "    res.append([src, dst])\n",
    "    res.extend(helper(n - 1, aux, dst))\n",
    "\n",
    "    memos[(n, src, dst)] = res[:]\n",
    "    return res\n"
   ]
  }
 ],
 "metadata": {
  "kernelspec": {
   "display_name": "Python 3 (ipykernel)",
   "language": "python",
   "name": "python3"
  },
  "language_info": {
   "codemirror_mode": {
    "name": "ipython",
    "version": 3
   },
   "file_extension": ".py",
   "mimetype": "text/x-python",
   "name": "python",
   "nbconvert_exporter": "python",
   "pygments_lexer": "ipython3",
   "version": "3.9.2"
  }
 },
 "nbformat": 4,
 "nbformat_minor": 5
}
