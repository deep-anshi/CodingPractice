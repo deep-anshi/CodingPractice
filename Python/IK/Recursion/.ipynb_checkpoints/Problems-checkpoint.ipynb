{
 "cells": [
  {
   "cell_type": "markdown",
   "id": "8c1019c7",
   "metadata": {},
   "source": [
    "# Recursion problem"
   ]
  },
  {
   "cell_type": "markdown",
   "id": "6f0c674d",
   "metadata": {},
   "source": [
    "## Fibonacci recursion"
   ]
  },
  {
   "cell_type": "code",
   "execution_count": 5,
   "id": "74f3be25",
   "metadata": {},
   "outputs": [],
   "source": [
    "third_dict = {\n",
    "    (1, 2): 3,\n",
    "    (2, 1): 3,\n",
    "    (1, 3): 2,\n",
    "    (3, 1): 2,\n",
    "    (2, 3): 1,\n",
    "    (3, 2): 1,\n",
    "}\n",
    "\n",
    "memos = dict()"
   ]
  },
  {
   "cell_type": "code",
   "execution_count": 6,
   "id": "5c2d6081",
   "metadata": {},
   "outputs": [
    {
     "data": {
      "text/plain": [
       "{(1, 2): 3, (2, 1): 3, (1, 3): 2, (3, 1): 2, (2, 3): 1, (3, 2): 1}"
      ]
     },
     "execution_count": 6,
     "metadata": {},
     "output_type": "execute_result"
    }
   ],
   "source": [
    "third_dict"
   ]
  },
  {
   "cell_type": "code",
   "execution_count": 7,
   "id": "9c28e36d",
   "metadata": {},
   "outputs": [
    {
     "data": {
      "text/plain": [
       "{}"
      ]
     },
     "execution_count": 7,
     "metadata": {},
     "output_type": "execute_result"
    }
   ],
   "source": [
    "memos"
   ]
  },
  {
   "cell_type": "code",
   "execution_count": null,
   "id": "1527a746",
   "metadata": {},
   "outputs": [],
   "source": [
    "def helper(n, src, dst):\n",
    "    if (n, src, dst) in memos:\n",
    "        return memos[(n, src, dst)]\n",
    "\n",
    "    if n == 0:\n",
    "        return [[]]\n",
    "\n",
    "    if n == 1:\n",
    "        return [[src, dst]]\n",
    "\n",
    "    aux = third_dict[(src, dst)]\n",
    "    res = helper(n - 1, src, aux)\n",
    "    res.append([src, dst])\n",
    "    res.extend(helper(n - 1, aux, dst))\n",
    "\n",
    "    memos[(n, src, dst)] = res[:]\n",
    "    return res\n"
   ]
  },
  {
   "cell_type": "code",
   "execution_count": null,
   "id": "97254ba3",
   "metadata": {},
   "outputs": [],
   "source": []
  },
  {
   "cell_type": "code",
   "execution_count": null,
   "id": "77f95f35",
   "metadata": {},
   "outputs": [],
   "source": []
  },
  {
   "cell_type": "code",
   "execution_count": 27,
   "id": "794d0f03",
   "metadata": {},
   "outputs": [
    {
     "data": {
      "text/plain": [
       "24"
      ]
     },
     "execution_count": 27,
     "metadata": {},
     "output_type": "execute_result"
    }
   ],
   "source": [
    "# Factorial (n!)\n",
    "## recursive\n",
    "def fact(n):\n",
    "    if n ==0:\n",
    "        return 1\n",
    "    return n*fact(n-1)\n",
    "fact(4)\n",
    "\n",
    "## iterative\n",
    "def fact(n):\n",
    "    result =1\n",
    "    for i in range(1,n+1):\n",
    "        result = result*(i)  \n",
    "    return result\n",
    "fact(4)"
   ]
  },
  {
   "cell_type": "code",
   "execution_count": 18,
   "id": "24e9913d",
   "metadata": {},
   "outputs": [
    {
     "data": {
      "text/plain": [
       "243"
      ]
     },
     "execution_count": 18,
     "metadata": {},
     "output_type": "execute_result"
    }
   ],
   "source": [
    "# Power (n^k)\n",
    "\n",
    "## recursive\n",
    "def power(n,k):\n",
    "    if k ==0:\n",
    "        return 1\n",
    "    elif k==1:\n",
    "        return n\n",
    "    \n",
    "    return n*power(n,k-1)\n",
    "\n",
    "power(3,4)\n",
    "\n",
    "## iterative \n",
    "def power(n,k):\n",
    "    result =1\n",
    "    for i in range(1,k+1):\n",
    "        result = result* n\n",
    "    return result\n",
    "power(3,4) \n",
    "\n",
    "#list(range(4)) -> [0, 1, 2, 3]\n",
    "#list(range(1,4)) -> [0, 1, 2, 3]"
   ]
  },
  {
   "cell_type": "code",
   "execution_count": 17,
   "id": "e9df3ca8",
   "metadata": {},
   "outputs": [],
   "source": [
    "#n number of subsets given n \n",
    "# n number of subset solution-> 2^n (to choose or not to choose element), \n",
    "#exponential thus T(n) = 2^(n+1)-1 ~ O(2^n) exponential\n",
    "\n",
    "def n_subsets(n):\n",
    "    if n==0:\n",
    "        return 1\n",
    "    return 2*n_subsets(n-1)\n",
    "\n",
    "n_subsets(3)\n",
    "   \n",
    "# with t(n) ~ log n \n",
    "def n_subsets(n):\n",
    "    if n==0:\n",
    "        return 1\n",
    "    elif n%2==0:\n",
    "        return n_subsets(n//2)*n_subsets(n//2)\n",
    "    else:\n",
    "        return 2*n_subsets(n//2)*n_subsets(n//2)\n",
    "    \n",
    "n_subsets(3)"
   ]
  },
  {
   "cell_type": "code",
   "execution_count": 34,
   "id": "e4e0bb58",
   "metadata": {},
   "outputs": [
    {
     "data": {
      "text/plain": [
       "3"
      ]
     },
     "execution_count": 34,
     "metadata": {},
     "output_type": "execute_result"
    }
   ],
   "source": [
    "# fibonacci\n",
    "def fib(n):\n",
    "    if n ==0 or n==1:\n",
    "        return n\n",
    "    return fib(n-1) + fib(n-2)\n",
    "fib(4)\n",
    "\n",
    "def addSeq(n,b1,b2):\n",
    "    if n==0:\n",
    "        return b1\n",
    "    elif n==1:\n",
    "        return b2\n",
    "    return addSeq(n-1, b2, b1+b2)\n",
    "\n",
    "fib(4)"
   ]
  },
  {
   "cell_type": "code",
   "execution_count": null,
   "id": "e213ba88",
   "metadata": {},
   "outputs": [],
   "source": []
  }
 ],
 "metadata": {
  "kernelspec": {
   "display_name": "Python 3 (ipykernel)",
   "language": "python",
   "name": "python3"
  },
  "language_info": {
   "codemirror_mode": {
    "name": "ipython",
    "version": 3
   },
   "file_extension": ".py",
   "mimetype": "text/x-python",
   "name": "python",
   "nbconvert_exporter": "python",
   "pygments_lexer": "ipython3",
   "version": "3.9.2"
  }
 },
 "nbformat": 4,
 "nbformat_minor": 5
}
