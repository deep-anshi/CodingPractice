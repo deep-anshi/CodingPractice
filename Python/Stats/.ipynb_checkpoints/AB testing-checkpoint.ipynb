{
 "cells": [
  {
   "cell_type": "markdown",
   "id": "052f5050",
   "metadata": {},
   "source": [
    "# Parametric tests"
   ]
  },
  {
   "cell_type": "markdown",
   "id": "e45c5097",
   "metadata": {},
   "source": [
    "## 2 SAMPLE T TEST "
   ]
  },
  {
   "cell_type": "code",
   "execution_count": 52,
   "id": "4649956b",
   "metadata": {},
   "outputs": [
    {
     "name": "stdout",
     "output_type": "stream",
     "text": [
      "T-stat:  -0.6341884165454409\n",
      "P value:  1.4702425989059527\n",
      "t_crit:  1.6859544576438141\n",
      "Confidence interval:  (-0.9219007196565695, 0.4179155865725529)\n"
     ]
    }
   ],
   "source": [
    "import numpy as np\n",
    "from scipy.stats import t\n",
    "\n",
    "N_con = 20\n",
    "df_con = N_con-1 #dof of control group\n",
    "N_exp = 20\n",
    "df_exp = N_exp-1 #dof of experimental group\n",
    "\n",
    "#Significance level\n",
    "alpha = 0.05\n",
    "\n",
    "#data of control group with t distribution \n",
    "X_con = np.random.standard_t(df_con, N_con)\n",
    "#data of experimental group with t distribution\n",
    "X_exp = np.random.standard_t(df_exp, N_exp)\n",
    "\n",
    "#mean of control\n",
    "mu_con = np.mean(X_con)\n",
    "#mean of experimental group\n",
    "mu_exp = np.mean(X_exp)\n",
    "\n",
    "#variance of control\n",
    "sigma_sq_con = np.var(X_con)\n",
    "#variance of experimental \n",
    "sigma_sq_exp = np.var(X_exp)\n",
    "\n",
    "#pooled variance\n",
    "pooled_var_t_test = (((N_con-1)*sigma_sq_con+(N_exp-1)*sigma_sq_exp)/(N_exp+N_con-2))*(1/N_con+1/N_exp)\n",
    "\n",
    "#standard error\n",
    "SE = np.sqrt(pooled_var_t_test)\n",
    "\n",
    "#Test statistic \n",
    "T = (mu_con-mu_exp)/SE\n",
    "\n",
    "# P value \n",
    "P_val = t.sf(T, N_con+N_exp-2)*2\n",
    "\n",
    "#critical value for 2 sided sample t-test\n",
    "z_crit= t.ppf(1-alpha,N_exp+N_con-2)\n",
    "\n",
    "#margin of error\n",
    "margin_error = SE*z_crit\n",
    "\n",
    "# Confidence Interval\n",
    "\n",
    "CI = ((mu_con-mu_exp)-margin_error,(mu_con-mu_exp)+margin_error)\n",
    "\n",
    "print(\"T-stat: \",T)\n",
    "print(\"P value: \", P_val)\n",
    "print(\"t_crit: \",z_crit) # this will always be same for t dist 2 sided** \n",
    "print(\"Confidence interval: \", CI)\n"
   ]
  },
  {
   "cell_type": "code",
   "execution_count": 53,
   "id": "b4779afc",
   "metadata": {},
   "outputs": [
    {
     "data": {
      "text/plain": [
       "<AxesSubplot:>"
      ]
     },
     "execution_count": 53,
     "metadata": {},
     "output_type": "execute_result"
    },
    {
     "data": {
      "image/png": "[encoded data removed]",
      "text/plain": [
       "<Figure size 432x288 with 1 Axes>"
      ]
     },
     "metadata": {
      "needs_background": "light"
     },
     "output_type": "display_data"
    }
   ],
   "source": [
    "import seaborn as sns\n",
    "sns.distplot(X_con,kde=False)"
   ]
  },
  {
   "cell_type": "code",
   "execution_count": 54,
   "id": "a4b29008",
   "metadata": {},
   "outputs": [
    {
     "data": {
      "text/plain": [
       "<AxesSubplot:>"
      ]
     },
     "execution_count": 54,
     "metadata": {},
     "output_type": "execute_result"
    },
    {
     "data": {
      "image/png": "[encoded data removed]",
      "text/plain": [
       "<Figure size 432x288 with 1 Axes>"
      ]
     },
     "metadata": {
      "needs_background": "light"
     },
     "output_type": "display_data"
    }
   ],
   "source": [
    "import seaborn as sns\n",
    "sns.distplot(X_exp,kde=False)"
   ]
  },
  {
   "cell_type": "markdown",
   "id": "2ced72fa",
   "metadata": {},
   "source": [
    "## 2 sample Z test"
   ]
  },
  {
   "cell_type": "markdown",
   "id": "b100fa79",
   "metadata": {},
   "source": [
    "### case 1 : Z test for comparing proportions (2 sided)"
   ]
  },
  {
   "cell_type": "code",
   "execution_count": 55,
   "id": "ff25c936",
   "metadata": {},
   "outputs": [
    {
     "name": "stdout",
     "output_type": "stream",
     "text": [
      "Test stat:  6.503782823926798\n",
      "P value:  7.832495206930039e-11\n",
      "z_crit:  1.959963984540054\n",
      "Confidence interval:  (0.020210660302896456, 0.03764628777733894)\n"
     ]
    }
   ],
   "source": [
    "import numpy as np\n",
    "from scipy.stats import norm\n",
    "\n",
    "X_con = 1242 #click control\n",
    "N_con = 9886 #impression control\n",
    "X_exp = 974 #click experimental \n",
    "N_exp = 10072 #impression experimental\n",
    "\n",
    "alpha = 0.05\n",
    "p_con_hat = X_con/N_con\n",
    "p_exp_hat = X_exp/N_exp\n",
    "p_pooled_hat = (X_con+X_exp)/(N_con+N_exp)\n",
    "p_pooled_var = p_pooled_hat*(1-p_pooled_hat)*((1/N_con)+(1/N_exp))\n",
    "\n",
    "SE = np.sqrt(p_pooled_var)\n",
    "\n",
    "Z_stat = (p_con_hat - p_exp_hat)/SE\n",
    "\n",
    "P_val = norm.sf(T_stat)*2\n",
    "\n",
    "Z_crit = norm.ppf(1-alpha/2)\n",
    "\n",
    "margin_error = Z_crit*SE\n",
    "CI = ((p_con_hat - p_exp_hat) - margin_error,(p_con_hat - p_exp_hat) + margin_error)\n",
    "\n",
    "print(\"Test stat: \",Z_stat)\n",
    "print(\"P value: \", P_val)\n",
    "print(\"z_crit: \",Z_crit) # this will always be same for t dist 2 sided** \n",
    "print(\"Confidence interval: \", CI)"
   ]
  },
  {
   "cell_type": "code",
   "execution_count": 56,
   "id": "653dd659",
   "metadata": {},
   "outputs": [
    {
     "data": {
      "image/png": "[encoded data removed]",
      "text/plain": [
       "<Figure size 432x288 with 1 Axes>"
      ]
     },
     "metadata": {
      "needs_background": "light"
     },
     "output_type": "display_data"
    }
   ],
   "source": [
    "import matplotlib.pyplot as plt\n",
    "z= np.arange(-3,3, 0.1)\n",
    "#print(z) != print(norm.pdf(z))\n",
    "plt.plot(z, norm.pdf(z), label =\"Standard normal distroibution\",color='purple')\n",
    "plt.fill_between(z[z>Z_crit], norm.pdf(z[z>Z_crit]),label='Right rejection region',color='green')\n",
    "plt.fill_between(z[z<(-1)*Z_crit],norm.pdf(z[z<(-1)*Z_crit]), label=\"Left rejection region\",color='green')\n",
    "plt.title(\"2 sample Z test rejection region\")\n",
    "plt.legend()\n",
    "plt.show()"
   ]
  },
  {
   "cell_type": "markdown",
   "id": "00e95556",
   "metadata": {},
   "source": [
    "### case 2 : Z test for comparing means (2 sided)"
   ]
  },
  {
   "cell_type": "code",
   "execution_count": 59,
   "id": "71d26a89",
   "metadata": {},
   "outputs": [
    {
     "name": "stdout",
     "output_type": "stream",
     "text": [
      "Test stat:  -242.7130945600587\n",
      "P value:  2.0\n",
      "z_crit:  0.6744897501960817\n",
      "Confidence interval:  (-930.4618831179896, -925.304783548677)\n"
     ]
    }
   ],
   "source": [
    "import numpy as np\n",
    "from scipy.stats import norm\n",
    "\n",
    "N_con = 60\n",
    "N_exp = 60\n",
    "\n",
    "alpha=0.5\n",
    "X_con = np.random.randint(100,size=N_con)\n",
    "X_con = np.random.randint(100,size=N_exp)\n",
    "\n",
    "#Calculating means of control and experimental group\n",
    "mu_con = np.mean(X_con)\n",
    "mu_exp = np.mean(X_exp)\n",
    "\n",
    "var_con = np.var(X_con)\n",
    "var_exp = np.var(X_exp)\n",
    " \n",
    "# pooled variance\n",
    "pooled_var = (var_con/N_con) + (var_exp/N_exp)\n",
    "SE = np.sqrt(pooled_var)\n",
    "\n",
    "T_stat = (mu_con-mu_exp)/SE\n",
    "\n",
    "p_val = norm.sf(T_stat)*2\n",
    "\n",
    "Z_crit = norm.ppf(1-alpha/2)\n",
    "\n",
    "margin_error = Z_crit*SE\n",
    "\n",
    "CI =(mu_con-mu_exp-margin_error,mu_con-mu_exp+margin_error)\n",
    "\n",
    "print(\"Test stat: \",T_stat)\n",
    "print(\"P value: \", p_val)\n",
    "print(\"z_crit: \",Z_crit) # this will always be same for t dist 2 sided** \n",
    "print(\"Confidence interval: \", CI)\n",
    "\n",
    "# CI_low < mu_con-mu_exp < CI_upp"
   ]
  },
  {
   "cell_type": "code",
   "execution_count": null,
   "id": "73eefa2c",
   "metadata": {},
   "outputs": [],
   "source": []
  }
 ],
 "metadata": {
  "kernelspec": {
   "display_name": "Python 3 (ipykernel)",
   "language": "python",
   "name": "python3"
  },
  "language_info": {
   "codemirror_mode": {
    "name": "ipython",
    "version": 3
   },
   "file_extension": ".py",
   "mimetype": "text/x-python",
   "name": "python",
   "nbconvert_exporter": "python",
   "pygments_lexer": "ipython3",
   "version": "3.9.2"
  }
 },
 "nbformat": 4,
 "nbformat_minor": 5
}
