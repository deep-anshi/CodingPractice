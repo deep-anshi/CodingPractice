{
 "cells": [
  {
   "cell_type": "markdown",
   "id": "d233ee92",
   "metadata": {},
   "source": [
    "# Parametric tests"
   ]
  },
  {
   "cell_type": "markdown",
   "id": "c23121ca",
   "metadata": {},
   "source": [
    "## 2 SAMPLE T TEST "
   ]
  },
  {
   "cell_type": "code",
   "execution_count": 52,
   "id": "bde242e4",
   "metadata": {},
   "outputs": [
    {
     "name": "stdout",
     "output_type": "stream",
     "text": [
      "T-stat:  -0.6341884165454409\n",
      "P value:  1.4702425989059527\n",
      "t_crit:  1.6859544576438141\n",
      "Confidence interval:  (-0.9219007196565695, 0.4179155865725529)\n"
     ]
    }
   ],
   "source": [
    "import numpy as np\n",
    "from scipy.stats import t\n",
    "\n",
    "N_con = 20\n",
    "df_con = N_con-1 #dof of control group\n",
    "N_exp = 20\n",
    "df_exp = N_exp-1 #dof of experimental group\n",
    "\n",
    "#Significance level\n",
    "alpha = 0.05\n",
    "\n",
    "#data of control group with t distribution \n",
    "X_con = np.random.standard_t(df_con, N_con)\n",
    "#data of experimental group with t distribution\n",
    "X_exp = np.random.standard_t(df_exp, N_exp)\n",
    "\n",
    "#mean of control\n",
    "mu_con = np.mean(X_con)\n",
    "#mean of experimental group\n",
    "mu_exp = np.mean(X_exp)\n",
    "\n",
    "#variance of control\n",
    "sigma_sq_con = np.var(X_con)\n",
    "#variance of experimental \n",
    "sigma_sq_exp = np.var(X_exp)\n",
    "\n",
    "#pooled variance\n",
    "pooled_var_t_test = (((N_con-1)*sigma_sq_con+(N_exp-1)*sigma_sq_exp)/(N_exp+N_con-2))*(1/N_con+1/N_exp)\n",
    "\n",
    "#standard error\n",
    "SE = np.sqrt(pooled_var_t_test)\n",
    "\n",
    "#Test statistic \n",
    "T = (mu_con-mu_exp)/SE\n",
    "\n",
    "# P value \n",
    "P_val = t.sf(T, N_con+N_exp-2)*2\n",
    "\n",
    "#critical value for 2 sided sample t-test\n",
    "z_crit= t.ppf(1-alpha,N_exp+N_con-2)\n",
    "\n",
    "#margin of error\n",
    "margin_error = SE*z_crit\n",
    "\n",
    "# Confidence Interval\n",
    "\n",
    "CI = ((mu_con-mu_exp)-margin_error,(mu_con-mu_exp)+margin_error)\n",
    "\n",
    "print(\"T-stat: \",T)\n",
    "print(\"P value: \", P_val)\n",
    "print(\"t_crit: \",z_crit) # this will always be same for t dist 2 sided** \n",
    "print(\"Confidence interval: \", CI)\n"
   ]
  },
  {
   "cell_type": "code",
   "execution_count": 53,
   "id": "30dab402",
   "metadata": {},
   "outputs": [
    {
     "data": {
      "text/plain": [
       "<AxesSubplot:>"
      ]
     },
     "execution_count": 53,
     "metadata": {},
     "output_type": "execute_result"
    },
    {
     "data": {
      "image/png": "[encoded data removed]",
      "text/plain": [
       "<Figure size 432x288 with 1 Axes>"
      ]
     },
     "metadata": {
      "needs_background": "light"
     },
     "output_type": "display_data"
    }
   ],
   "source": [
    "import seaborn as sns\n",
    "sns.distplot(X_con,kde=False)"
   ]
  },
  {
   "cell_type": "code",
   "execution_count": 54,
   "id": "ecc5070c",
   "metadata": {},
   "outputs": [
    {
     "data": {
      "text/plain": [
       "<AxesSubplot:>"
      ]
     },
     "execution_count": 54,
     "metadata": {},
     "output_type": "execute_result"
    },
    {
     "data": {
      "image/png": "[encoded data removed]",
      "text/plain": [
       "<Figure size 432x288 with 1 Axes>"
      ]
     },
     "metadata": {
      "needs_background": "light"
     },
     "output_type": "display_data"
    }
   ],
   "source": [
    "import seaborn as sns\n",
    "sns.distplot(X_exp,kde=False)"
   ]
  },
  {
   "cell_type": "markdown",
   "id": "738984a5",
   "metadata": {},
   "source": [
    "## 2 sample Z test"
   ]
  },
  {
   "cell_type": "markdown",
   "id": "973ec03b",
   "metadata": {},
   "source": [
    "### case 1 : Z test for comparing proportions (2 sided)"
   ]
  },
  {
   "cell_type": "code",
   "execution_count": 55,
   "id": "18cbd1ac",
   "metadata": {},
   "outputs": [
    {
     "name": "stdout",
     "output_type": "stream",
     "text": [
      "Test stat:  6.503782823926798\n",
      "P value:  7.832495206930039e-11\n",
      "z_crit:  1.959963984540054\n",
      "Confidence interval:  (0.020210660302896456, 0.03764628777733894)\n"
     ]
    }
   ],
   "source": [
    "import numpy as np\n",
    "from scipy.stats import norm\n",
    "\n",
    "X_con = 1242 #click control\n",
    "N_con = 9886 #impression control\n",
    "X_exp = 974 #click experimental \n",
    "N_exp = 10072 #impression experimental\n",
    "\n",
    "alpha = 0.05\n",
    "p_con_hat = X_con/N_con\n",
    "p_exp_hat = X_exp/N_exp\n",
    "p_pooled_hat = (X_con+X_exp)/(N_con+N_exp)\n",
    "p_pooled_var = p_pooled_hat*(1-p_pooled_hat)*((1/N_con)+(1/N_exp))\n",
    "\n",
    "SE = np.sqrt(p_pooled_var)\n",
    "\n",
    "Z_stat = (p_con_hat - p_exp_hat)/SE\n",
    "\n",
    "P_val = norm.sf(T_stat)*2\n",
    "\n",
    "Z_crit = norm.ppf(1-alpha/2)\n",
    "\n",
    "margin_error = Z_crit*SE\n",
    "CI = ((p_con_hat - p_exp_hat) - margin_error,(p_con_hat - p_exp_hat) + margin_error)\n",
    "\n",
    "print(\"Test stat: \",Z_stat)\n",
    "print(\"P value: \", P_val)\n",
    "print(\"z_crit: \",Z_crit) # this will always be same for t dist 2 sided** \n",
    "print(\"Confidence interval: \", CI)"
   ]
  },
  {
   "cell_type": "code",
   "execution_count": 56,
   "id": "4a9412f9",
   "metadata": {},
   "outputs": [
    {
     "data": {
      "image/png": "[encoded data removed]",
      "text/plain": [
       "<Figure size 432x288 with 1 Axes>"
      ]
     },
     "metadata": {
      "needs_background": "light"
     },
     "output_type": "display_data"
    }
   ],
   "source": [
    "import matplotlib.pyplot as plt\n",
    "z= np.arange(-3,3, 0.1)\n",
    "#print(z) != print(norm.pdf(z))\n",
    "plt.plot(z, norm.pdf(z), label =\"Standard normal distroibution\",color='purple')\n",
    "plt.fill_between(z[z>Z_crit], norm.pdf(z[z>Z_crit]),label='Right rejection region',color='green')\n",
    "plt.fill_between(z[z<(-1)*Z_crit],norm.pdf(z[z<(-1)*Z_crit]), label=\"Left rejection region\",color='green')\n",
    "plt.title(\"2 sample Z test rejection region\")\n",
    "plt.legend()\n",
    "plt.show()"
   ]
  },
  {
   "cell_type": "markdown",
   "id": "cac16ef4",
   "metadata": {},
   "source": [
    "### case 2 : Z test for comparing means (2 sided)"
   ]
  },
  {
   "cell_type": "code",
   "execution_count": 61,
   "id": "2113f73a",
   "metadata": {},
   "outputs": [
    {
     "name": "stdout",
     "output_type": "stream",
     "text": [
      "Test stat:  -253.69505976305996\n",
      "P value:  2.0\n",
      "z_crit:  0.6744897501960817\n",
      "Confidence interval:  (-931.1858116042464, -926.247521729087)\n"
     ]
    }
   ],
   "source": [
    "import numpy as np\n",
    "from scipy.stats import norm\n",
    "\n",
    "N_con = 60\n",
    "N_exp = 60\n",
    "\n",
    "alpha=0.5\n",
    "X_con = np.random.randint(100,size=N_con)\n",
    "X_con = np.random.randint(100,size=N_exp)\n",
    "\n",
    "#Calculating means of control and experimental group\n",
    "mu_con = np.mean(X_con)\n",
    "mu_exp = np.mean(X_exp)\n",
    "\n",
    "var_con = np.var(X_con)\n",
    "var_exp = np.var(X_exp)\n",
    " \n",
    "# pooled variance\n",
    "pooled_var = (var_con/N_con) + (var_exp/N_exp)\n",
    "SE = np.sqrt(pooled_var)\n",
    "\n",
    "T_stat = (mu_con-mu_exp)/SE\n",
    "\n",
    "p_val = norm.sf(T_stat)*2\n",
    "\n",
    "Z_crit = norm.ppf(1-alpha/2)\n",
    "\n",
    "margin_error = Z_crit*SE\n",
    "\n",
    "CI =(mu_con-mu_exp-margin_error,mu_con-mu_exp+margin_error)\n",
    "\n",
    "print(\"Test stat: \",T_stat)\n",
    "print(\"P value: \", p_val)\n",
    "print(\"z_crit: \",Z_crit) # this will always be same for t dist 2 sided** \n",
    "print(\"Confidence interval: \", CI)\n",
    "\n",
    "# CI_low < mu_con-mu_exp < CI_upp"
   ]
  },
  {
   "cell_type": "code",
   "execution_count": 62,
   "id": "8ca2f611",
   "metadata": {},
   "outputs": [
    {
     "data": {
      "image/png": "[encoded data removed]",
      "text/plain": [
       "<Figure size 432x288 with 1 Axes>"
      ]
     },
     "metadata": {
      "needs_background": "light"
     },
     "output_type": "display_data"
    }
   ],
   "source": [
    "import matplotlib.pyplot as plt\n",
    "z= np.arange(-3,3, 0.1)\n",
    "plt.plot(z, norm.pdf(z), label =\"Standard normal distroibution\",color='purple')\n",
    "plt.fill_between(z[z>Z_crit], norm.pdf(z[z>Z_crit]),label='Right rejection region',color='green')\n",
    "plt.fill_between(z[z<(-1)*Z_crit],norm.pdf(z[z<(-1)*Z_crit]), label=\"Left rejection region\",color='green')\n",
    "plt.title(\"2 sample Z test rejection region\")\n",
    "plt.legend()\n",
    "plt.show()"
   ]
  },
  {
   "cell_type": "markdown",
   "id": "e3de58dd",
   "metadata": {},
   "source": [
    "# Non parametric test "
   ]
  },
  {
   "cell_type": "markdown",
   "id": "1d192eea",
   "metadata": {},
   "source": [
    "### Chi squared test "
   ]
  },
  {
   "cell_type": "code",
   "execution_count": 70,
   "id": "205d573e",
   "metadata": {},
   "outputs": [
    {
     "data": {
      "image/png": "[encoded data removed]",
      "text/plain": [
       "<Figure size 432x288 with 1 Axes>"
      ]
     },
     "metadata": {
      "needs_background": "light"
     },
     "output_type": "display_data"
    }
   ],
   "source": [
    "import numpy as np\n",
    "from scipy.stats import chi2\n",
    "\n",
    "O = np.array([86,83,5810,3920])\n",
    "T = np.array([105,65,5781,3841])\n",
    "\n",
    "def calculate_D(O,T):\n",
    "    D_sum=0\n",
    "    for i in range(len(O)):\n",
    "        D_sum+= (O[i]+T[i])**2 / T[i]\n",
    "    return(D_sum)\n",
    "\n",
    "D = calculate_D(O,T)\n",
    "pval = chi2.sf(D,df=1)\n",
    "\n",
    "import matplotlib.pyplot as plt\n",
    "# Step 1: pick a x-axis range like in case of z-test (-3,3,0.1)\n",
    "d = np.arange(0,5,0.1)\n",
    "# Step 2: drawing the initial pdf of chi-2 with df = 1 and x-axis d range we just created\n",
    "plt.plot(d, chi2.pdf(d, df = 1), color = \"purple\")\n",
    "# Step 3: filling in the rejection region\n",
    "plt.fill_between(d[d>D], chi2.pdf(d[d>D], df = 1), color = \"y\")\n",
    "# Step 4: adding title\n",
    "plt.title(\"Two Sample Chi-2 Test rejection region\")\n",
    "# Step 5: showing the plt graph\n",
    "plt.show()\n"
   ]
  },
  {
   "cell_type": "code",
   "execution_count": 71,
   "id": "bb0f20fb",
   "metadata": {},
   "outputs": [
    {
     "data": {
      "text/plain": [
       "array([], dtype=float64)"
      ]
     },
     "execution_count": 71,
     "metadata": {},
     "output_type": "execute_result"
    }
   ],
   "source": [
    "d[d>D]"
   ]
  },
  {
   "cell_type": "code",
   "execution_count": 72,
   "id": "00dae9d7",
   "metadata": {},
   "outputs": [
    {
     "data": {
      "text/plain": [
       "array([0. , 0.1, 0.2, 0.3, 0.4, 0.5, 0.6, 0.7, 0.8, 0.9, 1. , 1.1, 1.2,\n",
       "       1.3, 1.4, 1.5, 1.6, 1.7, 1.8, 1.9, 2. , 2.1, 2.2, 2.3, 2.4, 2.5,\n",
       "       2.6, 2.7, 2.8, 2.9, 3. , 3.1, 3.2, 3.3, 3.4, 3.5, 3.6, 3.7, 3.8,\n",
       "       3.9, 4. , 4.1, 4.2, 4.3, 4.4, 4.5, 4.6, 4.7, 4.8, 4.9])"
      ]
     },
     "execution_count": 72,
     "metadata": {},
     "output_type": "execute_result"
    }
   ],
   "source": [
    "d"
   ]
  },
  {
   "cell_type": "code",
   "execution_count": 73,
   "id": "decd2063",
   "metadata": {},
   "outputs": [
    {
     "data": {
      "text/plain": [
       "39606.193024465814"
      ]
     },
     "execution_count": 73,
     "metadata": {},
     "output_type": "execute_result"
    }
   ],
   "source": [
    "D"
   ]
  },
  {
   "cell_type": "code",
   "execution_count": 76,
   "id": "44fe0662",
   "metadata": {},
   "outputs": [
    {
     "data": {
      "text/plain": [
       "array([], dtype=float64)"
      ]
     },
     "execution_count": 76,
     "metadata": {},
     "output_type": "execute_result"
    }
   ],
   "source": [
    "chi2.pdf(d[d>D], df = 1)"
   ]
  },
  {
   "cell_type": "code",
   "execution_count": 79,
   "id": "3c19d16c",
   "metadata": {},
   "outputs": [
    {
     "name": "stdout",
     "output_type": "stream",
     "text": [
      "      0     1\n",
      "0   204   Exp\n",
      "1   205   Exp\n",
      "2   205   Exp\n",
      "3   196   Exp\n",
      "4   195   Exp\n",
      "..  ...   ...\n",
      "95  203  Cont\n",
      "96  214  Cont\n",
      "97  220  Cont\n",
      "98  205  Cont\n",
      "99  197  Cont\n",
      "\n",
      "[100 rows x 2 columns]\n",
      "Mean of X_bar_exp - X_bar_con -2.6604644825693526\n",
      "Standard Error of X_bar_exp - X_bar_con 0.21729133452715027\n",
      "CI of X_bar_exp - X_bar_con [-3.086347672395212, -2.2345812927434934]\n"
     ]
    },
    {
     "data": {
      "image/png": "[encoded data removed]",
      "text/plain": [
       "<Figure size 432x288 with 1 Axes>"
      ]
     },
     "metadata": {
      "needs_background": "light"
     },
     "output_type": "display_data"
    }
   ],
   "source": [
    "import numpy as np\n",
    "import pandas as pd\n",
    "from scipy.stats import norm\n",
    "\n",
    "N = 100\n",
    "X = pd.Series(np.random.binomial(300,0.7,size =N))\n",
    "Y1 = np.repeat(\"Exp\",N/2)\n",
    "N_exp = len(Y1)\n",
    "Y2 = np.repeat(\"Cont\",N/2)\n",
    "N_con = len(Y2)\n",
    "\n",
    "Y = pd.Series(np.append(Y1,Y2))\n",
    "data = pd.concat([X,Y],axis = 1)\n",
    "print(data)\n",
    "means_per_group = data.groupby(1, group_keys = False)[0].mean()\n",
    "medians_per_group = data.groupby(1)[0].median()\n",
    "\n",
    "alpha = 0.05\n",
    "def Bootrapping_for_diff_means_medians(data,B):\n",
    "    boot_mean_diff = []\n",
    "    boot_medians_diff = []\n",
    "\n",
    "    boot_means_con = []\n",
    "    boot_means_exp = []\n",
    "\n",
    "    count_num_positives_meandiff = 0\n",
    "    count_num_positives_mediandiff = 0\n",
    "\n",
    "    for i in range(B):\n",
    "\n",
    "        boot_sample = data.sample(frac = 1, replace = True)\n",
    "\n",
    "        #means of bootstrap sample for control and experimental group\n",
    "        boot_means_per_group = boot_sample.groupby(1)[0].mean()\n",
    "        boot_sample_mean_con = boot_means_per_group[\"Cont\"]\n",
    "        boot_sample_mean_exp = boot_means_per_group[\"Exp\"]\n",
    "\n",
    "        boot_means_con.append(boot_sample_mean_con)\n",
    "        boot_means_exp.append(boot_sample_mean_exp)\n",
    "\n",
    "        # calculating the difference in means per bootstrap sample\n",
    "        diff_means = boot_sample_mean_exp - boot_sample_mean_con\n",
    "\n",
    "        #counting number of times is the difference positive\n",
    "        if diff_means > 0:\n",
    "            count_num_positives_meandiff += 1\n",
    "\n",
    "        # medians of bootstrap sample for control and experimental group\n",
    "        boot_medians_per_group = boot_sample.groupby(1)[0].median()\n",
    "\n",
    "        # calculating the difference in medians per bootstrap sample\n",
    "        diff_medians = boot_medians_per_group[\"Exp\"] - boot_medians_per_group[\"Cont\"]\n",
    "        if diff_medians > 0:\n",
    "            count_num_positives_mediandiff += 1\n",
    "\n",
    "        boot_mean_diff.append(diff_means)\n",
    "        boot_medians_diff.append(diff_medians)\n",
    "\n",
    "    return(boot_means_con,boot_means_exp,count_num_positives_meandiff,count_num_positives_mediandiff,boot_mean_diff)\n",
    "\n",
    "B = 10000\n",
    "X_bars_con,X_bars_exp ,n_means, n_medians,boot_mean_diff = Bootrapping_for_diff_means_medians(data,B)\n",
    "Z_mean = np.mean(X_bars_exp)- np.mean(X_bars_con)\n",
    "Z_sigma = np.sqrt((np.var(X_bars_exp)/N_exp + np.var(X_bars_con)/N_con))\n",
    "CI = [Z_mean - norm.ppf(1-alpha/2)*Z_sigma, Z_mean + norm.ppf(1-alpha/2)*Z_sigma]\n",
    "\n",
    "print(\"Mean of X_bar_exp - X_bar_con\", Z_mean)\n",
    "print(\"Standard Error of X_bar_exp - X_bar_con\", Z_sigma)\n",
    "print(\"CI of X_bar_exp - X_bar_con\", CI)\n",
    "\n",
    "p_value_diff_means = n_means/B\n",
    "p_value_diff_medians = n_medians/B\n",
    "\n",
    "CI = np.percentile(boot_mean_diff, [2.5, 97.5])\n",
    "\n",
    "import matplotlib.pyplot as plt\n",
    "counts,bins,ignored = plt.hist(boot_mean_diff,50,density = True,color = 'purple')\n",
    "plt.xlabel(\"mean difference\")\n",
    "plt.title(\"Distribution of Bootstrapped samples mean difference\")\n",
    "plt.show()"
   ]
  },
  {
   "cell_type": "code",
   "execution_count": null,
   "id": "7470e19a",
   "metadata": {},
   "outputs": [],
   "source": []
  }
 ],
 "metadata": {
  "kernelspec": {
   "display_name": "Python 3 (ipykernel)",
   "language": "python",
   "name": "python3"
  },
  "language_info": {
   "codemirror_mode": {
    "name": "ipython",
    "version": 3
   },
   "file_extension": ".py",
   "mimetype": "text/x-python",
   "name": "python",
   "nbconvert_exporter": "python",
   "pygments_lexer": "ipython3",
   "version": "3.9.2"
  }
 },
 "nbformat": 4,
 "nbformat_minor": 5
}
