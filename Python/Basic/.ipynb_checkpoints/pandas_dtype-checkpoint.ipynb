{
 "cells": [
  {
   "cell_type": "markdown",
   "id": "3e46c26a",
   "metadata": {},
   "source": [
    "# Pandas dtype"
   ]
  },
  {
   "cell_type": "markdown",
   "id": "7e0135fb",
   "metadata": {},
   "source": [
    "https://pbpython.com/pandas_dtypes.html"
   ]
  },
  {
   "cell_type": "code",
   "execution_count": null,
   "id": "823bb0ab",
   "metadata": {},
   "outputs": [],
   "source": [
    "df.dtypes\n",
    "df.info()"
   ]
  },
  {
   "cell_type": "markdown",
   "id": "11f9f592",
   "metadata": {},
   "source": [
    "#astype() fucntion"
   ]
  },
  {
   "cell_type": "code",
   "execution_count": null,
   "id": "2618da20",
   "metadata": {},
   "outputs": [],
   "source": [
    "# convert from float to int\n",
    "df['abc'] = df['abc'].astype('int')"
   ]
  },
  {
   "cell_type": "code",
   "execution_count": null,
   "id": "8ce9c445",
   "metadata": {},
   "outputs": [],
   "source": [
    "# convert obj to float/int\n",
    "def currency_converter(val):\n",
    "    \"\"\"\n",
    "    convert  . . ..\n",
    "    \"\"\"\n",
    "    \n",
    "    new_val = val.replace('$','').replace(',','')\n",
    "    return float(new_val)\n",
    "\n",
    "df['def'] = df['def'].apply(currency_converter)\n",
    "\n",
    "# or\n",
    "df[def] = df['def'].apply(lambda x: x.replace('$','').replace(',','')).astype('float')"
   ]
  },
  {
   "cell_type": "code",
   "execution_count": null,
   "id": "5b5e3336",
   "metadata": {},
   "outputs": [],
   "source": [
    "# convert obj to float/ int\n",
    "def percent_growth(val):\n",
    "    \"\"\"\n",
    "    fucntion vcreatey dccsdcdsc\n",
    "    \"\"\"\n",
    "    \n",
    "    new_val = val.replace('%','')\n",
    "    return float(new_val)/100\n",
    "\n",
    "df['ghi'] = df['ghi'].apply(percent_growth)\n",
    "\n",
    "# or\n",
    "df['ghi'] = df['ghi'].apply(lambda x: x.replace('%','')).astype('float')/100"
   ]
  },
  {
   "cell_type": "code",
   "execution_count": null,
   "id": "ab20c31f",
   "metadata": {},
   "outputs": [],
   "source": [
    "# object to boolean as astype('bool') doesnt work\n",
    "df['jkl'] = np.where(df.['jkl']== Y, True, False)"
   ]
  },
  {
   "cell_type": "code",
   "execution_count": null,
   "id": "e964795f",
   "metadata": {},
   "outputs": [],
   "source": [
    "# pandas helper fucntions\n",
    "#pd_to_numeric()\n",
    "#pd_to_datetime()\n",
    "\n",
    "df['mno'] = pd_to_numeric(df['mno'],errors='coerce').fillna(0)\n",
    "df['mno'] = df['mno'].apply(lambda x: pd_to_numeric(x, errors='coerce')).fillna(0)\n",
    "\n",
    "df['start_date'] = pd_to_datetime(df[['month','day','year']])"
   ]
  }
 ],
 "metadata": {
  "kernelspec": {
   "display_name": "Python 3 (ipykernel)",
   "language": "python",
   "name": "python3"
  },
  "language_info": {
   "codemirror_mode": {
    "name": "ipython",
    "version": 3
   },
   "file_extension": ".py",
   "mimetype": "text/x-python",
   "name": "python",
   "nbconvert_exporter": "python",
   "pygments_lexer": "ipython3",
   "version": "3.9.2"
  }
 },
 "nbformat": 4,
 "nbformat_minor": 5
}
