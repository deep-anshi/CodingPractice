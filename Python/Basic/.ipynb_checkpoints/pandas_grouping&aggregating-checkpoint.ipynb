{
 "cells": [
  {
   "cell_type": "markdown",
   "id": "8e984665",
   "metadata": {},
   "source": [
    "# Grouping  + Aggregating"
   ]
  },
  {
   "cell_type": "code",
   "execution_count": 1,
   "id": "783e3450",
   "metadata": {},
   "outputs": [],
   "source": [
    "import pandas as pd\n",
    "import numpy as np\n",
    "import seaborn as sns"
   ]
  },
  {
   "cell_type": "code",
   "execution_count": 4,
   "id": "0acfab22",
   "metadata": {},
   "outputs": [],
   "source": [
    "df = sns.load_dataset('titanic')"
   ]
  },
  {
   "cell_type": "code",
   "execution_count": 5,
   "id": "79e85b31",
   "metadata": {},
   "outputs": [
    {
     "data": {
      "text/plain": [
       "sum      28693.9493\n",
       "count      891.0000\n",
       "Name: fare, dtype: float64"
      ]
     },
     "execution_count": 5,
     "metadata": {},
     "output_type": "execute_result"
    }
   ],
   "source": [
    "# Types of aggregating\n",
    "\n",
    "# 1 list \n",
    "df['fare'].agg(['sum','count'])"
   ]
  },
  {
   "cell_type": "code",
   "execution_count": 11,
   "id": "0a250302",
   "metadata": {},
   "outputs": [
    {
     "data": {
      "text/html": [
       "<div>\n",
       "<style scoped>\n",
       "    .dataframe tbody tr th:only-of-type {\n",
       "        vertical-align: middle;\n",
       "    }\n",
       "\n",
       "    .dataframe tbody tr th {\n",
       "        vertical-align: top;\n",
       "    }\n",
       "\n",
       "    .dataframe thead th {\n",
       "        text-align: right;\n",
       "    }\n",
       "</style>\n",
       "<table border=\"1\" class=\"dataframe\">\n",
       "  <thead>\n",
       "    <tr style=\"text-align: right;\">\n",
       "      <th></th>\n",
       "      <th>fare</th>\n",
       "      <th>sex</th>\n",
       "    </tr>\n",
       "  </thead>\n",
       "  <tbody>\n",
       "    <tr>\n",
       "      <th>sum</th>\n",
       "      <td>28693.949300</td>\n",
       "      <td>NaN</td>\n",
       "    </tr>\n",
       "    <tr>\n",
       "      <th>mean</th>\n",
       "      <td>32.204208</td>\n",
       "      <td>NaN</td>\n",
       "    </tr>\n",
       "    <tr>\n",
       "      <th>count</th>\n",
       "      <td>NaN</td>\n",
       "      <td>891.0</td>\n",
       "    </tr>\n",
       "  </tbody>\n",
       "</table>\n",
       "</div>"
      ],
      "text/plain": [
       "               fare    sex\n",
       "sum    28693.949300    NaN\n",
       "mean      32.204208    NaN\n",
       "count           NaN  891.0"
      ]
     },
     "execution_count": 11,
     "metadata": {},
     "output_type": "execute_result"
    }
   ],
   "source": [
    "# 2 Dictionary \n",
    "df.agg({'fare': ['sum','mean'],\n",
    "         'sex': 'count'})"
   ]
  },
  {
   "cell_type": "code",
   "execution_count": null,
   "id": "2641cfc6",
   "metadata": {},
   "outputs": [],
   "source": [
    "# 3 Tuple\n",
    "----"
   ]
  },
  {
   "cell_type": "code",
   "execution_count": null,
   "id": "c1744d62",
   "metadata": {},
   "outputs": [],
   "source": [
    "# basic math funct\n",
    "\n",
    "agg_func_math = {'fare': ['sum','median','mean','prod','min','max','std','var','mad']}\n",
    "df.groupby('town').agg(agg_func_math).round(2)"
   ]
  },
  {
   "cell_type": "code",
   "execution_count": null,
   "id": "f0475b9a",
   "metadata": {},
   "outputs": [],
   "source": [
    "#use of describe()\n",
    "\n",
    "agg_func_describe = {'fare': 'describe'}\n",
    "df.groupby('town').agg(agg_func_describe).round2"
   ]
  },
  {
   "cell_type": "code",
   "execution_count": null,
   "id": "29f51db1",
   "metadata": {},
   "outputs": [],
   "source": [
    "# counting\n",
    "agg_func_count = {'embark_town': ['count', 'nunique', 'size']}\n",
    "df.groupby(['deck']).agg(agg_func_count)\n"
   ]
  },
  {
   "cell_type": "markdown",
   "id": "e983390f",
   "metadata": {},
   "source": [
    "count will not include NaN values whereas size will. In addition, the nunique function will exclude NaN values in the unique counts. "
   ]
  },
  {
   "cell_type": "code",
   "execution_count": null,
   "id": "a1c27dd0",
   "metadata": {},
   "outputs": [],
   "source": [
    "#first and last \n",
    "agg_func_selection = {'fare': ['first','last']}\n",
    "df.sort_values(=['fare'],ascending = False).groupby(['town']).agg(agg_func_selection)\n",
    "#would have recommended using min max here"
   ]
  },
  {
   "cell_type": "markdown",
   "id": "a52a9b47",
   "metadata": {},
   "source": [
    "Another selection approach is to use idxmax and idxmin to select the index value that corresponds to the maximum or minimum value."
   ]
  },
  {
   "cell_type": "code",
   "execution_count": null,
   "id": "7a7fa891",
   "metadata": {},
   "outputs": [],
   "source": [
    "agg_func_max_min = {'fare': ['idxmax', 'idxmin']}\n",
    "df.groupby(['embark_town']).agg(agg_func_max_min)\n",
    "#df.loc[[258, 378]]"
   ]
  },
  {
   "cell_type": "code",
   "execution_count": null,
   "id": "1ec03b8a",
   "metadata": {},
   "outputs": [],
   "source": [
    "# another trick\n",
    "df.loc[df.groupby(['class']).['fare'].idmax()]"
   ]
  },
  {
   "cell_type": "code",
   "execution_count": null,
   "id": "18b34870",
   "metadata": {},
   "outputs": [],
   "source": [
    "#Other libraries\n",
    "from scipy.stats import mode, skew\n",
    "agg_func_stats = {'fare': [skew, mode, pd.Series.mode]}\n",
    "df.groupby(['embark_town']).agg(agg_func_stats)"
   ]
  },
  {
   "cell_type": "markdown",
   "id": "871585f9",
   "metadata": {},
   "source": [
    "The scipy.stats mode function returns the most frequent value as well as the count of occurrences. If you just want the most frequent value, use pd.Series.mode."
   ]
  },
  {
   "cell_type": "code",
   "execution_count": null,
   "id": "350bccec",
   "metadata": {},
   "outputs": [],
   "source": [
    "# Working with text\n",
    "agg_func_text = {'deck': [ 'nunique', mode, set]}\n",
    "df.groupby(['class']).agg(agg_func_text)"
   ]
  },
  {
   "cell_type": "markdown",
   "id": "7328fb04",
   "metadata": {},
   "source": [
    "if you a have small number of distinct values, you can use python’s set function to display the full list of unique values"
   ]
  },
  {
   "cell_type": "code",
   "execution_count": null,
   "id": "62c1d97f",
   "metadata": {},
   "outputs": [],
   "source": [
    "# partial functions\n",
    "\n",
    "from functools import partial\n",
    "# Use partial\n",
    "q_25 = partial(pd.Series.quantile, q=0.25)\n",
    "q_25.__name__ = '25%'"
   ]
  },
  {
   "cell_type": "code",
   "execution_count": null,
   "id": "8fdd686a",
   "metadata": {},
   "outputs": [],
   "source": [
    "# Define a function\n",
    "def percentile_25(x):\n",
    "    return x.quantile(.25)\n",
    "#We can define a lambda function and give it a name:\n",
    "lambda_25 = lambda x: x.quantile(.25)\n",
    "\n",
    "lambda_25.__name__ = 'lambda_25%'"
   ]
  },
  {
   "cell_type": "code",
   "execution_count": null,
   "id": "0f9a5323",
   "metadata": {},
   "outputs": [],
   "source": [
    "#Or, define the lambda inline:\n",
    "\n",
    "# Use a lambda function inline\n",
    "agg_func = {\n",
    "    'fare': [q_25, percentile_25, lambda_25, lambda x: x.quantile(.25)]\n",
    "}\n",
    "\n",
    "df.groupby(['embark_town']).agg(agg_func).round(2)"
   ]
  },
  {
   "cell_type": "markdown",
   "id": "84ffc637",
   "metadata": {},
   "source": [
    "custom fucntion examples"
   ]
  },
  {
   "cell_type": "code",
   "execution_count": null,
   "id": "6dfbf4d1",
   "metadata": {},
   "outputs": [],
   "source": [
    "def count_nulls(s):\n",
    "    return s.size - s.count()\n",
    "    \n",
    "def unique_nan(s):\n",
    "    return s.nunique(dropna=False)\n",
    "\n",
    "agg_func_custom_count = {\n",
    "    'embark_town': ['count', 'nunique', 'size', unique_nan, count_nulls, set]\n",
    "}\n",
    "df.groupby(['deck']).agg(agg_func_custom_count)"
   ]
  },
  {
   "cell_type": "code",
   "execution_count": null,
   "id": "a21d8935",
   "metadata": {},
   "outputs": [],
   "source": [
    "def percentile_90(x):\n",
    "    return x.quantile(.9)\n",
    "def trim_mean_10(x):\n",
    "    return trim_mean(x, 0.1)\n",
    "def largest(x):\n",
    "    return x.nlargest(1)\n",
    "def sparkline_str(x):\n",
    "    bins=np.histogram(x)[0]\n",
    "    sl = ''.join(sparklines(bins))\n",
    "    return sl\n",
    "\n",
    "agg_func_largest = {\n",
    "    'fare': [percentile_90, trim_mean_10, largest, sparkline_str]\n",
    "}\n",
    "df.groupby(['class', 'embark_town']).agg(agg_func_largest)"
   ]
  },
  {
   "cell_type": "markdown",
   "id": "31e2e2e8",
   "metadata": {},
   "source": [
    "The nlargest and nsmallest functions can be useful for summarizing the data in various scenarios. Here is code to show the total fares for the top 10 and bottom 10 individuals:"
   ]
  },
  {
   "cell_type": "code",
   "execution_count": null,
   "id": "88231b34",
   "metadata": {},
   "outputs": [],
   "source": [
    "def top_10_sum(x):\n",
    "    return x.nlargest(10).sum()\n",
    "\n",
    "def bottom_10_sum(x):\n",
    "    return x.nsmallest(10).sum()\n",
    "\n",
    "\n",
    "agg_func_top_bottom_sum = {'fare': [top_10_sum, bottom_10_sum]}\n",
    "df.groupby('class').agg(agg_func_top_bottom_sum)"
   ]
  },
  {
   "cell_type": "markdown",
   "id": "117de081",
   "metadata": {},
   "source": [
    "working with group objects\n",
    "\n",
    "Once you group and aggregate the data, you can do additional calculations on the grouped objects.\n",
    "\n",
    "For the first example, we can figure out what percentage of the total fares sold can be attributed to each embark_town and class combination."
   ]
  },
  {
   "cell_type": "code",
   "execution_count": null,
   "id": "d4e064a9",
   "metadata": {},
   "outputs": [],
   "source": [
    "# working with group objects\n",
    "df.groupby(['embark_town', 'class']).agg({\n",
    "    'fare': 'sum'\n",
    "}).assign(pct_total=lambda x: x / x.sum())"
   ]
  },
  {
   "cell_type": "markdown",
   "id": "79b8716f",
   "metadata": {},
   "source": [
    "Flattening Hierarchical Column Indices\n",
    "By default, pandas creates a hierarchical column index on the summary DataFrame. \n",
    "#https://pbpython.com/groupby-agg.html"
   ]
  },
  {
   "cell_type": "code",
   "execution_count": null,
   "id": "5668c4ce",
   "metadata": {},
   "outputs": [],
   "source": [
    "multi_df = df.groupby(['embark_town', 'class'],\n",
    "                    as_index=False).agg({'fare': ['sum', 'mean']})\n",
    "\n",
    "multi_df.columns = [\n",
    "'_'.join(col).rstrip('_') for col in multi_df.columns.values\n",
    "]"
   ]
  },
  {
   "cell_type": "code",
   "execution_count": null,
   "id": "59835e73",
   "metadata": {},
   "outputs": [],
   "source": []
  }
 ],
 "metadata": {
  "kernelspec": {
   "display_name": "Python 3 (ipykernel)",
   "language": "python",
   "name": "python3"
  },
  "language_info": {
   "codemirror_mode": {
    "name": "ipython",
    "version": 3
   },
   "file_extension": ".py",
   "mimetype": "text/x-python",
   "name": "python",
   "nbconvert_exporter": "python",
   "pygments_lexer": "ipython3",
   "version": "3.9.2"
  }
 },
 "nbformat": 4,
 "nbformat_minor": 5
}
